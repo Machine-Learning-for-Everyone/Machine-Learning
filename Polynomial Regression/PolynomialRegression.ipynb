{
 "cells": [
  {
   "cell_type": "code",
   "execution_count": 2,
   "metadata": {},
   "outputs": [],
   "source": [
    "import numpy as nm\n",
    "import pandas as pd\n",
    "import matplotlib.pyplot as plt"
   ]
  },
  {
   "cell_type": "code",
   "execution_count": 5,
   "metadata": {},
   "outputs": [],
   "source": [
    "Data_set = pd.read_csv('./DATA.csv',engine='python')"
   ]
  },
  {
   "cell_type": "code",
   "execution_count": 6,
   "metadata": {},
   "outputs": [
    {
     "data": {
      "text/html": [
       "<div>\n",
       "<style scoped>\n",
       "    .dataframe tbody tr th:only-of-type {\n",
       "        vertical-align: middle;\n",
       "    }\n",
       "\n",
       "    .dataframe tbody tr th {\n",
       "        vertical-align: top;\n",
       "    }\n",
       "\n",
       "    .dataframe thead th {\n",
       "        text-align: right;\n",
       "    }\n",
       "</style>\n",
       "<table border=\"1\" class=\"dataframe\">\n",
       "  <thead>\n",
       "    <tr style=\"text-align: right;\">\n",
       "      <th></th>\n",
       "      <th>Time (in seconds)</th>\n",
       "      <th>Vehicle’s speed (in m/s)</th>\n",
       "      <th>Engine Load (% of max power)</th>\n",
       "      <th>Total Acceleration (m/s^2)</th>\n",
       "      <th>Engine RPM</th>\n",
       "      <th>Pitch</th>\n",
       "      <th>Lateral Acceleration (m/s^2)</th>\n",
       "    </tr>\n",
       "  </thead>\n",
       "  <tbody>\n",
       "    <tr>\n",
       "      <th>0</th>\n",
       "      <td>0.020000</td>\n",
       "      <td>0.000000</td>\n",
       "      <td>0.000000</td>\n",
       "      <td>0.000000</td>\n",
       "      <td>0.000000</td>\n",
       "      <td>-0.323710</td>\n",
       "      <td>0.000000</td>\n",
       "    </tr>\n",
       "    <tr>\n",
       "      <th>1</th>\n",
       "      <td>0.027000</td>\n",
       "      <td>0.000000</td>\n",
       "      <td>0.000000</td>\n",
       "      <td>0.000000</td>\n",
       "      <td>0.000000</td>\n",
       "      <td>-0.333910</td>\n",
       "      <td>0.000000</td>\n",
       "    </tr>\n",
       "    <tr>\n",
       "      <th>2</th>\n",
       "      <td>0.037000</td>\n",
       "      <td>0.000000</td>\n",
       "      <td>0.000000</td>\n",
       "      <td>0.000000</td>\n",
       "      <td>0.000000</td>\n",
       "      <td>-0.344200</td>\n",
       "      <td>0.000000</td>\n",
       "    </tr>\n",
       "    <tr>\n",
       "      <th>3</th>\n",
       "      <td>0.047000</td>\n",
       "      <td>0.000000</td>\n",
       "      <td>0.000000</td>\n",
       "      <td>0.000000</td>\n",
       "      <td>0.000000</td>\n",
       "      <td>-0.354570</td>\n",
       "      <td>0.000000</td>\n",
       "    </tr>\n",
       "    <tr>\n",
       "      <th>4</th>\n",
       "      <td>0.057000</td>\n",
       "      <td>0.000000</td>\n",
       "      <td>0.000000</td>\n",
       "      <td>0.000000</td>\n",
       "      <td>0.000000</td>\n",
       "      <td>-0.365020</td>\n",
       "      <td>0.000000</td>\n",
       "    </tr>\n",
       "    <tr>\n",
       "      <th>...</th>\n",
       "      <td>...</td>\n",
       "      <td>...</td>\n",
       "      <td>...</td>\n",
       "      <td>...</td>\n",
       "      <td>...</td>\n",
       "      <td>...</td>\n",
       "      <td>...</td>\n",
       "    </tr>\n",
       "    <tr>\n",
       "      <th>244338</th>\n",
       "      <td>2443.600000</td>\n",
       "      <td>0.000000</td>\n",
       "      <td>0.000000</td>\n",
       "      <td>0.000000</td>\n",
       "      <td>0.000000</td>\n",
       "      <td>0.000000</td>\n",
       "      <td>0.000000</td>\n",
       "    </tr>\n",
       "    <tr>\n",
       "      <th>244339</th>\n",
       "      <td>2443.700000</td>\n",
       "      <td>0.000000</td>\n",
       "      <td>0.000000</td>\n",
       "      <td>0.000000</td>\n",
       "      <td>0.000000</td>\n",
       "      <td>0.000000</td>\n",
       "      <td>0.000000</td>\n",
       "    </tr>\n",
       "    <tr>\n",
       "      <th>244340</th>\n",
       "      <td>2443.700000</td>\n",
       "      <td>0.000000</td>\n",
       "      <td>0.000000</td>\n",
       "      <td>0.000000</td>\n",
       "      <td>0.000000</td>\n",
       "      <td>0.000000</td>\n",
       "      <td>0.000000</td>\n",
       "    </tr>\n",
       "    <tr>\n",
       "      <th>244341</th>\n",
       "      <td>1221.824441</td>\n",
       "      <td>4.208266</td>\n",
       "      <td>6.506821</td>\n",
       "      <td>0.084486</td>\n",
       "      <td>1346.820666</td>\n",
       "      <td>0.493134</td>\n",
       "      <td>-0.001158</td>\n",
       "    </tr>\n",
       "    <tr>\n",
       "      <th>244342</th>\n",
       "      <td>705.427881</td>\n",
       "      <td>4.589320</td>\n",
       "      <td>6.381330</td>\n",
       "      <td>0.903199</td>\n",
       "      <td>671.321649</td>\n",
       "      <td>2.703698</td>\n",
       "      <td>0.461782</td>\n",
       "    </tr>\n",
       "  </tbody>\n",
       "</table>\n",
       "<p>244343 rows × 7 columns</p>\n",
       "</div>"
      ],
      "text/plain": [
       "        Time (in seconds)  Vehicle’s speed (in m/s)  \\\n",
       "0                0.020000                  0.000000   \n",
       "1                0.027000                  0.000000   \n",
       "2                0.037000                  0.000000   \n",
       "3                0.047000                  0.000000   \n",
       "4                0.057000                  0.000000   \n",
       "...                   ...                       ...   \n",
       "244338        2443.600000                  0.000000   \n",
       "244339        2443.700000                  0.000000   \n",
       "244340        2443.700000                  0.000000   \n",
       "244341        1221.824441                  4.208266   \n",
       "244342         705.427881                  4.589320   \n",
       "\n",
       "        Engine Load (% of max power)  Total Acceleration (m/s^2)   Engine RPM  \\\n",
       "0                           0.000000                    0.000000     0.000000   \n",
       "1                           0.000000                    0.000000     0.000000   \n",
       "2                           0.000000                    0.000000     0.000000   \n",
       "3                           0.000000                    0.000000     0.000000   \n",
       "4                           0.000000                    0.000000     0.000000   \n",
       "...                              ...                         ...          ...   \n",
       "244338                      0.000000                    0.000000     0.000000   \n",
       "244339                      0.000000                    0.000000     0.000000   \n",
       "244340                      0.000000                    0.000000     0.000000   \n",
       "244341                      6.506821                    0.084486  1346.820666   \n",
       "244342                      6.381330                    0.903199   671.321649   \n",
       "\n",
       "           Pitch  Lateral Acceleration (m/s^2)  \n",
       "0      -0.323710                      0.000000  \n",
       "1      -0.333910                      0.000000  \n",
       "2      -0.344200                      0.000000  \n",
       "3      -0.354570                      0.000000  \n",
       "4      -0.365020                      0.000000  \n",
       "...          ...                           ...  \n",
       "244338  0.000000                      0.000000  \n",
       "244339  0.000000                      0.000000  \n",
       "244340  0.000000                      0.000000  \n",
       "244341  0.493134                     -0.001158  \n",
       "244342  2.703698                      0.461782  \n",
       "\n",
       "[244343 rows x 7 columns]"
      ]
     },
     "execution_count": 6,
     "metadata": {},
     "output_type": "execute_result"
    }
   ],
   "source": [
    "Data_set"
   ]
  },
  {
   "cell_type": "code",
   "execution_count": 15,
   "metadata": {},
   "outputs": [
    {
     "data": {
      "text/plain": [
       "array([[0.02 ],\n",
       "       [0.027],\n",
       "       [0.037],\n",
       "       [0.047],\n",
       "       [0.057],\n",
       "       [0.067],\n",
       "       [0.077],\n",
       "       [0.087],\n",
       "       [0.097],\n",
       "       [0.107],\n",
       "       [0.117],\n",
       "       [0.127],\n",
       "       [0.137],\n",
       "       [0.147],\n",
       "       [0.157],\n",
       "       [0.167],\n",
       "       [0.177],\n",
       "       [0.186],\n",
       "       [0.197],\n",
       "       [0.207],\n",
       "       [0.217],\n",
       "       [0.227],\n",
       "       [0.237],\n",
       "       [0.247],\n",
       "       [0.257],\n",
       "       [0.267],\n",
       "       [0.277],\n",
       "       [0.287],\n",
       "       [0.297],\n",
       "       [0.307],\n",
       "       [0.316],\n",
       "       [0.327],\n",
       "       [0.337],\n",
       "       [0.347],\n",
       "       [0.357],\n",
       "       [0.367],\n",
       "       [0.381],\n",
       "       [0.386],\n",
       "       [0.398],\n",
       "       [0.407],\n",
       "       [0.417],\n",
       "       [0.432],\n",
       "       [0.436],\n",
       "       [0.449],\n",
       "       [0.457],\n",
       "       [0.467],\n",
       "       [0.477],\n",
       "       [0.488],\n",
       "       [0.497],\n",
       "       [0.508]])"
      ]
     },
     "execution_count": 15,
     "metadata": {},
     "output_type": "execute_result"
    }
   ],
   "source": [
    "X = Data_set.iloc[:50,0:1].values\n",
    "X"
   ]
  },
  {
   "cell_type": "code",
   "execution_count": 16,
   "metadata": {},
   "outputs": [
    {
     "data": {
      "text/plain": [
       "array([ 0.0000e+00,  0.0000e+00,  0.0000e+00,  0.0000e+00,  0.0000e+00,\n",
       "        0.0000e+00,  0.0000e+00,  0.0000e+00,  0.0000e+00,  0.0000e+00,\n",
       "        0.0000e+00,  0.0000e+00,  0.0000e+00,  0.0000e+00,  1.7400e-05,\n",
       "        3.5100e-05,  5.2000e-05,  6.7700e-05,  8.1900e-05,  9.9800e-05,\n",
       "        1.1649e-04,  1.3464e-04,  1.4911e-04,  3.3000e-05,  3.6200e-05,\n",
       "        3.9800e-05,  4.3000e-05,  4.6500e-05, -4.9400e-05, -5.2700e-05,\n",
       "        5.6000e-05,  5.9600e-05,  6.2900e-05,  6.6000e-05,  6.9000e-05,\n",
       "        7.2200e-05,  2.2646e-04,  2.3691e-04,  8.2200e-05,  8.5100e-05,\n",
       "       -8.8500e-05, -9.1700e-05, -9.5100e-05, -9.8300e-05,  1.0173e-04,\n",
       "        1.0502e-04, -1.0801e-04, -1.1139e-04,  1.1453e-04,  1.1797e-04])"
      ]
     },
     "execution_count": 16,
     "metadata": {},
     "output_type": "execute_result"
    }
   ],
   "source": [
    "y = Data_set.iloc[:50,-1].values\n",
    "y"
   ]
  },
  {
   "cell_type": "code",
   "execution_count": 19,
   "metadata": {},
   "outputs": [
    {
     "data": {
      "text/plain": [
       "[<matplotlib.lines.Line2D at 0x1d5aafae850>]"
      ]
     },
     "execution_count": 19,
     "metadata": {},
     "output_type": "execute_result"
    },
    {
     "data": {
      "image/png": "[encoded data removed]",
      "text/plain": [
       "<Figure size 432x288 with 1 Axes>"
      ]
     },
     "metadata": {
      "needs_background": "light"
     },
     "output_type": "display_data"
    }
   ],
   "source": [
    "plt.scatter(X,y,color='red')\n",
    "plt.plot(X,y,color='green')"
   ]
  },
  {
   "cell_type": "markdown",
   "metadata": {},
   "source": [
    "Here we are taking 50 DATA and we plotted it , training Polynomial Regression to predict the lateral acceleration"
   ]
  },
  {
   "cell_type": "code",
   "execution_count": 26,
   "metadata": {},
   "outputs": [],
   "source": [
    "from sklearn.model_selection import train_test_split\n",
    "X_train,X_test,y_train,y_test = train_test_split(X,y,test_size=0.2)"
   ]
  },
  {
   "cell_type": "code",
   "execution_count": 31,
   "metadata": {},
   "outputs": [
    {
     "data": {
      "text/plain": [
       "LinearRegression()"
      ]
     },
     "execution_count": 31,
     "metadata": {},
     "output_type": "execute_result"
    }
   ],
   "source": [
    "from sklearn.linear_model import LinearRegression\n",
    "reg = LinearRegression()\n",
    "reg.fit(X_train,y_train)"
   ]
  },
  {
   "cell_type": "code",
   "execution_count": 34,
   "metadata": {},
   "outputs": [],
   "source": [
    "y_predict = reg.predict(X_test)"
   ]
  },
  {
   "cell_type": "code",
   "execution_count": 35,
   "metadata": {},
   "outputs": [
    {
     "name": "stdout",
     "output_type": "stream",
     "text": [
      "[-5.27e-05 -9.83e-05  6.90e-05  0.00e+00  0.00e+00  7.22e-05  0.00e+00\n",
      "  3.62e-05  0.00e+00  0.00e+00] [4.38582201e-05 5.10238436e-05 4.63813269e-05 3.57842780e-05\n",
      " 2.97288215e-05 4.68859483e-05 3.12426857e-05 4.13351132e-05\n",
      " 3.17473070e-05 3.52796567e-05]\n"
     ]
    }
   ],
   "source": [
    "print(y_test,y_predict)"
   ]
  },
  {
   "cell_type": "code",
   "execution_count": 44,
   "metadata": {},
   "outputs": [
    {
     "data": {
      "text/plain": [
       "Text(0, 0.5, 'Lateral Accelerarion in m')"
      ]
     },
     "execution_count": 44,
     "metadata": {},
     "output_type": "execute_result"
    },
    {
     "data": {
      "image/png": "[encoded data removed]",
      "text/plain": [
       "<Figure size 432x288 with 1 Axes>"
      ]
     },
     "metadata": {
      "needs_background": "light"
     },
     "output_type": "display_data"
    }
   ],
   "source": [
    "plt.scatter(X,y,color='red')\n",
    "plt.plot(X_train,reg.predict(X_train),color='green')\n",
    "plt.xlabel('Time in Sec') \n",
    "plt.ylabel('Lateral Accelerarion in m')"
   ]
  },
  {
   "cell_type": "code",
   "execution_count": 54,
   "metadata": {},
   "outputs": [],
   "source": [
    "import math as M\n",
    "def Acc(y,y_p):\n",
    "    error=0\n",
    "    for i in range(len(y)):\n",
    "        error=sum(y[i]-y_p[i])**2//len(y)\n",
    "    return M.sqrt(error)"
   ]
  },
  {
   "cell_type": "code",
   "execution_count": 55,
   "metadata": {},
   "outputs": [
    {
     "ename": "TypeError",
     "evalue": "'numpy.float64' object is not iterable",
     "output_type": "error",
     "traceback": [
      "\u001b[1;31m---------------------------------------------------------------------------\u001b[0m",
      "\u001b[1;31mTypeError\u001b[0m                                 Traceback (most recent call last)",
      "\u001b[1;32m<ipython-input-55-18ee2fc3c183>\u001b[0m in \u001b[0;36m<module>\u001b[1;34m\u001b[0m\n\u001b[1;32m----> 1\u001b[1;33m \u001b[0mAcc\u001b[0m\u001b[1;33m(\u001b[0m\u001b[0my_test\u001b[0m\u001b[1;33m,\u001b[0m\u001b[0my_predict\u001b[0m\u001b[1;33m)\u001b[0m\u001b[1;33m\u001b[0m\u001b[1;33m\u001b[0m\u001b[0m\n\u001b[0m",
      "\u001b[1;32m<ipython-input-54-ebd883aa2056>\u001b[0m in \u001b[0;36mAcc\u001b[1;34m(y, y_p)\u001b[0m\n\u001b[0;32m      3\u001b[0m     \u001b[0merror\u001b[0m\u001b[1;33m=\u001b[0m\u001b[1;36m0\u001b[0m\u001b[1;33m\u001b[0m\u001b[1;33m\u001b[0m\u001b[0m\n\u001b[0;32m      4\u001b[0m     \u001b[1;32mfor\u001b[0m \u001b[0mi\u001b[0m \u001b[1;32min\u001b[0m \u001b[0mrange\u001b[0m\u001b[1;33m(\u001b[0m\u001b[0mlen\u001b[0m\u001b[1;33m(\u001b[0m\u001b[0my\u001b[0m\u001b[1;33m)\u001b[0m\u001b[1;33m)\u001b[0m\u001b[1;33m:\u001b[0m\u001b[1;33m\u001b[0m\u001b[1;33m\u001b[0m\u001b[0m\n\u001b[1;32m----> 5\u001b[1;33m         \u001b[0merror\u001b[0m\u001b[1;33m=\u001b[0m\u001b[0msum\u001b[0m\u001b[1;33m(\u001b[0m\u001b[0my\u001b[0m\u001b[1;33m[\u001b[0m\u001b[0mi\u001b[0m\u001b[1;33m]\u001b[0m\u001b[1;33m-\u001b[0m\u001b[0my_p\u001b[0m\u001b[1;33m[\u001b[0m\u001b[0mi\u001b[0m\u001b[1;33m]\u001b[0m\u001b[1;33m)\u001b[0m\u001b[1;33m**\u001b[0m\u001b[1;36m2\u001b[0m\u001b[1;33m//\u001b[0m\u001b[0mlen\u001b[0m\u001b[1;33m(\u001b[0m\u001b[0my\u001b[0m\u001b[1;33m)\u001b[0m\u001b[1;33m\u001b[0m\u001b[1;33m\u001b[0m\u001b[0m\n\u001b[0m\u001b[0;32m      6\u001b[0m     \u001b[1;32mreturn\u001b[0m \u001b[0mM\u001b[0m\u001b[1;33m.\u001b[0m\u001b[0msqrt\u001b[0m\u001b[1;33m(\u001b[0m\u001b[0merror\u001b[0m\u001b[1;33m)\u001b[0m\u001b[1;33m\u001b[0m\u001b[1;33m\u001b[0m\u001b[0m\n",
      "\u001b[1;31mTypeError\u001b[0m: 'numpy.float64' object is not iterable"
     ]
    }
   ],
   "source": [
    "Acc(y_test,y_predict)"
   ]
  },
  {
   "cell_type": "code",
   "execution_count": 58,
   "metadata": {},
   "outputs": [],
   "source": [
    "from sklearn import metrics"
   ]
  },
  {
   "cell_type": "code",
   "execution_count": 62,
   "metadata": {},
   "outputs": [
    {
     "name": "stdout",
     "output_type": "stream",
     "text": [
      "Error :  6.180035887244287e-05\n"
     ]
    }
   ],
   "source": [
    "print(\"Error : \",nm.sqrt(metrics.mean_squared_error(y_test,y_predict)))"
   ]
  },
  {
   "cell_type": "code",
   "execution_count": 63,
   "metadata": {},
   "outputs": [
    {
     "name": "stdout",
     "output_type": "stream",
     "text": [
      "Intercept :  2.8366343821695255e-05\n"
     ]
    }
   ],
   "source": [
    "print(\"Intercept : \",reg.intercept_)"
   ]
  },
  {
   "cell_type": "code",
   "execution_count": 67,
   "metadata": {},
   "outputs": [
    {
     "name": "stdout",
     "output_type": "stream",
     "text": [
      "Coefficent :  [5.04621376e-05]\n"
     ]
    }
   ],
   "source": [
    "print(\"Coefficent : \",reg.coef_)"
   ]
  },
  {
   "cell_type": "code",
   "execution_count": 69,
   "metadata": {},
   "outputs": [
    {
     "data": {
      "text/plain": [
       "array([0.00012914])"
      ]
     },
     "execution_count": 69,
     "metadata": {},
     "output_type": "execute_result"
    }
   ],
   "source": [
    "reg.predict([[1.997]])"
   ]
  },
  {
   "cell_type": "markdown",
   "metadata": {},
   "source": [
    "Polynomial Regression\n"
   ]
  },
  {
   "cell_type": "code",
   "execution_count": 80,
   "metadata": {},
   "outputs": [
    {
     "data": {
      "text/plain": [
       "LinearRegression()"
      ]
     },
     "execution_count": 80,
     "metadata": {},
     "output_type": "execute_result"
    }
   ],
   "source": [
    "from sklearn.preprocessing import PolynomialFeatures\n",
    "x_poly = PolynomialFeatures(degree=3)\n",
    "X_p = x_poly.fit_transform(X_train)\n",
    "reg_poly = LinearRegression()\n",
    "reg_poly.fit(X_p,y_train)"
   ]
  },
  {
   "cell_type": "code",
   "execution_count": 82,
   "metadata": {},
   "outputs": [
    {
     "data": {
      "text/plain": [
       "Text(0, 0.5, 'Lateral Accelerarion in m')"
      ]
     },
     "execution_count": 82,
     "metadata": {},
     "output_type": "execute_result"
    },
    {
     "data": {
      "image/png": "[encoded data removed]",
      "text/plain": [
       "<Figure size 432x288 with 1 Axes>"
      ]
     },
     "metadata": {
      "needs_background": "light"
     },
     "output_type": "display_data"
    }
   ],
   "source": [
    "plt.scatter(X,y,color='red')\n",
    "plt.plot(X,reg_poly.predict(x_poly.fit_transform(X)),color='green')\n",
    "plt.xlabel('Time in Sec') \n",
    "plt.ylabel('Lateral Accelerarion in m')"
   ]
  },
  {
   "cell_type": "code",
   "execution_count": 90,
   "metadata": {},
   "outputs": [
    {
     "data": {
      "text/plain": [
       "array([-0.00212316])"
      ]
     },
     "execution_count": 90,
     "metadata": {},
     "output_type": "execute_result"
    }
   ],
   "source": [
    "reg_poly.predict(x_poly.fit_transform([[1.997]]))"
   ]
  },
  {
   "cell_type": "code",
   "execution_count": 91,
   "metadata": {},
   "outputs": [
    {
     "data": {
      "text/plain": [
       "array([0.00012914])"
      ]
     },
     "execution_count": 91,
     "metadata": {},
     "output_type": "execute_result"
    }
   ],
   "source": [
    "reg.predict([[1.997]])"
   ]
  }
 ],
 "metadata": {
  "kernelspec": {
   "display_name": "Python 3",
   "language": "python",
   "name": "python3"
  },
  "language_info": {
   "codemirror_mode": {
    "name": "ipython",
    "version": 3
   },
   "file_extension": ".py",
   "mimetype": "text/x-python",
   "name": "python",
   "nbconvert_exporter": "python",
   "pygments_lexer": "ipython3",
   "version": "3.8.2"
  }
 },
 "nbformat": 4,
 "nbformat_minor": 4
}
