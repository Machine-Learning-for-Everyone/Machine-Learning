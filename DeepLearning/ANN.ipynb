{
  "nbformat": 4,
  "nbformat_minor": 0,
  "metadata": {
    "colab": {
      "name": "ANN.ipynb",
      "provenance": [],
      "collapsed_sections": [],
      "toc_visible": true
    },
    "kernelspec": {
      "name": "python3",
      "display_name": "Python 3"
    }
  },
  "cells": [
    {
      "cell_type": "markdown",
      "metadata": {
        "id": "fgoEki_5BxFY"
      },
      "source": [
        "# Artificial Neural Network\r\n",
        "## Importing the necessery Library"
      ]
    },
    {
      "cell_type": "code",
      "metadata": {
        "id": "0YPB-71OB0zf"
      },
      "source": [
        "import pandas as pd\r\n",
        "import numpy as np\r\n",
        "import matplotlib.pyplot as plt\r\n",
        "import tensorflow as tf"
      ],
      "execution_count": 2,
      "outputs": []
    },
    {
      "cell_type": "code",
      "metadata": {
        "colab": {
          "base_uri": "https://localhost:8080/",
          "height": 35
        },
        "id": "ZLagbFlaB_Ag",
        "outputId": "ac1f126f-3720-4781-ac7b-539f78397794"
      },
      "source": [
        "tf.__version__"
      ],
      "execution_count": 3,
      "outputs": [
        {
          "output_type": "execute_result",
          "data": {
            "application/vnd.google.colaboratory.intrinsic+json": {
              "type": "string"
            },
            "text/plain": [
              "'2.4.1'"
            ]
          },
          "metadata": {
            "tags": []
          },
          "execution_count": 3
        }
      ]
    },
    {
      "cell_type": "markdown",
      "metadata": {
        "id": "JtBTRgXVCgIv"
      },
      "source": [
        "# Data Preprocessing"
      ]
    },
    {
      "cell_type": "markdown",
      "metadata": {
        "id": "MvveWaPjCtgf"
      },
      "source": [
        "**Importing the dataset**"
      ]
    },
    {
      "cell_type": "code",
      "metadata": {
        "colab": {
          "base_uri": "https://localhost:8080/",
          "height": 215
        },
        "id": "eo4abN6VC1Mw",
        "outputId": "a18d10a4-972d-446f-dd02-2c55fd0b1352"
      },
      "source": [
        "dataset = pd.read_csv('./bank.csv')\r\n",
        "dataset.head()"
      ],
      "execution_count": 5,
      "outputs": [
        {
          "output_type": "execute_result",
          "data": {
            "text/html": [
              "<div>\n",
              "<style scoped>\n",
              "    .dataframe tbody tr th:only-of-type {\n",
              "        vertical-align: middle;\n",
              "    }\n",
              "\n",
              "    .dataframe tbody tr th {\n",
              "        vertical-align: top;\n",
              "    }\n",
              "\n",
              "    .dataframe thead th {\n",
              "        text-align: right;\n",
              "    }\n",
              "</style>\n",
              "<table border=\"1\" class=\"dataframe\">\n",
              "  <thead>\n",
              "    <tr style=\"text-align: right;\">\n",
              "      <th></th>\n",
              "      <th>RowNumber</th>\n",
              "      <th>CustomerId</th>\n",
              "      <th>Surname</th>\n",
              "      <th>CreditScore</th>\n",
              "      <th>Geography</th>\n",
              "      <th>Gender</th>\n",
              "      <th>Age</th>\n",
              "      <th>Tenure</th>\n",
              "      <th>Balance</th>\n",
              "      <th>NumOfProducts</th>\n",
              "      <th>HasCrCard</th>\n",
              "      <th>IsActiveMember</th>\n",
              "      <th>EstimatedSalary</th>\n",
              "      <th>Exited</th>\n",
              "    </tr>\n",
              "  </thead>\n",
              "  <tbody>\n",
              "    <tr>\n",
              "      <th>0</th>\n",
              "      <td>1</td>\n",
              "      <td>15634602</td>\n",
              "      <td>Hargrave</td>\n",
              "      <td>619</td>\n",
              "      <td>France</td>\n",
              "      <td>Female</td>\n",
              "      <td>42</td>\n",
              "      <td>2</td>\n",
              "      <td>0.00</td>\n",
              "      <td>1</td>\n",
              "      <td>1</td>\n",
              "      <td>1</td>\n",
              "      <td>101348.88</td>\n",
              "      <td>1</td>\n",
              "    </tr>\n",
              "    <tr>\n",
              "      <th>1</th>\n",
              "      <td>2</td>\n",
              "      <td>15647311</td>\n",
              "      <td>Hill</td>\n",
              "      <td>608</td>\n",
              "      <td>Spain</td>\n",
              "      <td>Female</td>\n",
              "      <td>41</td>\n",
              "      <td>1</td>\n",
              "      <td>83807.86</td>\n",
              "      <td>1</td>\n",
              "      <td>0</td>\n",
              "      <td>1</td>\n",
              "      <td>112542.58</td>\n",
              "      <td>0</td>\n",
              "    </tr>\n",
              "    <tr>\n",
              "      <th>2</th>\n",
              "      <td>3</td>\n",
              "      <td>15619304</td>\n",
              "      <td>Onio</td>\n",
              "      <td>502</td>\n",
              "      <td>France</td>\n",
              "      <td>Female</td>\n",
              "      <td>42</td>\n",
              "      <td>8</td>\n",
              "      <td>159660.80</td>\n",
              "      <td>3</td>\n",
              "      <td>1</td>\n",
              "      <td>0</td>\n",
              "      <td>113931.57</td>\n",
              "      <td>1</td>\n",
              "    </tr>\n",
              "    <tr>\n",
              "      <th>3</th>\n",
              "      <td>4</td>\n",
              "      <td>15701354</td>\n",
              "      <td>Boni</td>\n",
              "      <td>699</td>\n",
              "      <td>France</td>\n",
              "      <td>Female</td>\n",
              "      <td>39</td>\n",
              "      <td>1</td>\n",
              "      <td>0.00</td>\n",
              "      <td>2</td>\n",
              "      <td>0</td>\n",
              "      <td>0</td>\n",
              "      <td>93826.63</td>\n",
              "      <td>0</td>\n",
              "    </tr>\n",
              "    <tr>\n",
              "      <th>4</th>\n",
              "      <td>5</td>\n",
              "      <td>15737888</td>\n",
              "      <td>Mitchell</td>\n",
              "      <td>850</td>\n",
              "      <td>Spain</td>\n",
              "      <td>Female</td>\n",
              "      <td>43</td>\n",
              "      <td>2</td>\n",
              "      <td>125510.82</td>\n",
              "      <td>1</td>\n",
              "      <td>1</td>\n",
              "      <td>1</td>\n",
              "      <td>79084.10</td>\n",
              "      <td>0</td>\n",
              "    </tr>\n",
              "  </tbody>\n",
              "</table>\n",
              "</div>"
            ],
            "text/plain": [
              "   RowNumber  CustomerId   Surname  ...  IsActiveMember EstimatedSalary Exited\n",
              "0          1    15634602  Hargrave  ...               1       101348.88      1\n",
              "1          2    15647311      Hill  ...               1       112542.58      0\n",
              "2          3    15619304      Onio  ...               0       113931.57      1\n",
              "3          4    15701354      Boni  ...               0        93826.63      0\n",
              "4          5    15737888  Mitchell  ...               1        79084.10      0\n",
              "\n",
              "[5 rows x 14 columns]"
            ]
          },
          "metadata": {
            "tags": []
          },
          "execution_count": 5
        }
      ]
    },
    {
      "cell_type": "code",
      "metadata": {
        "id": "oKIUEhYqC9RS"
      },
      "source": [
        "X = dataset.iloc[:,3:-1].values\r\n",
        "y = dataset.iloc[:,-1].values"
      ],
      "execution_count": 10,
      "outputs": []
    },
    {
      "cell_type": "markdown",
      "metadata": {
        "id": "vNgBEj7iDMSI"
      },
      "source": [
        "**Encoding the dataset**"
      ]
    },
    {
      "cell_type": "code",
      "metadata": {
        "id": "mt-DpbWLDUgA"
      },
      "source": [
        "# Encoding the gender\r\n",
        "from sklearn.preprocessing import LabelEncoder\r\n",
        "le = LabelEncoder()\r\n",
        "X[:,2] = le.fit_transform(X[:,2])"
      ],
      "execution_count": 13,
      "outputs": []
    },
    {
      "cell_type": "code",
      "metadata": {
        "id": "nz_Y2e9XE0qx"
      },
      "source": [
        "# Encoding the geography using OnHotEncoding\r\n",
        "from sklearn.compose import ColumnTransformer\r\n",
        "from sklearn.preprocessing import OneHotEncoder\r\n",
        "oe = ColumnTransformer(transformers=[('encoder', OneHotEncoder(), [1])], remainder='passthrough')\r\n",
        "X = np.array(oe.fit_transform(X))"
      ],
      "execution_count": 17,
      "outputs": []
    },
    {
      "cell_type": "markdown",
      "metadata": {
        "id": "hNqoWUFmJ41o"
      },
      "source": [
        "## Splitting the datsets as Training and Testing"
      ]
    },
    {
      "cell_type": "code",
      "metadata": {
        "id": "knrz3zQgKBQK"
      },
      "source": [
        "from sklearn.model_selection import train_test_split\r\n",
        "X_train,X_test,y_train,y_test = train_test_split(X,y)"
      ],
      "execution_count": 20,
      "outputs": []
    },
    {
      "cell_type": "markdown",
      "metadata": {
        "id": "vrodvw_9KRy4"
      },
      "source": [
        "**Feature Scaling**\r\n",
        "\r\n"
      ]
    },
    {
      "cell_type": "code",
      "metadata": {
        "id": "jJapvdgLLG0J"
      },
      "source": [
        "from sklearn.preprocessing import StandardScaler\r\n",
        "sc = StandardScaler()\r\n",
        "X_train = sc.fit_transform(X_train)\r\n",
        "X_test = sc.transform(X_test)"
      ],
      "execution_count": 21,
      "outputs": []
    },
    {
      "cell_type": "markdown",
      "metadata": {
        "id": "5XeaqeJ0LdDp"
      },
      "source": [
        "# Let's Build ANN"
      ]
    },
    {
      "cell_type": "code",
      "metadata": {
        "id": "QcrRjyHiLjhh"
      },
      "source": [
        "ann = tf.keras.models.Sequential()"
      ],
      "execution_count": 22,
      "outputs": []
    },
    {
      "cell_type": "markdown",
      "metadata": {
        "id": "XhIK2W0PMrGZ"
      },
      "source": [
        "Adding the input layer and hidden layers"
      ]
    },
    {
      "cell_type": "code",
      "metadata": {
        "id": "pp502comMv6Z"
      },
      "source": [
        "ann.add(tf.keras.layers.Dense(units=6,activation=\"relu\"))"
      ],
      "execution_count": 23,
      "outputs": []
    },
    {
      "cell_type": "markdown",
      "metadata": {
        "id": "qyJ1fQMyN9HB"
      },
      "source": [
        "Adding the input layer and second hidden layers"
      ]
    },
    {
      "cell_type": "code",
      "metadata": {
        "id": "k6DbBeTNOCnR"
      },
      "source": [
        "ann.add(tf.keras.layers.Dense(units=6,activation=\"relu\"))"
      ],
      "execution_count": 24,
      "outputs": []
    },
    {
      "cell_type": "markdown",
      "metadata": {
        "id": "MopKwsZdOIg3"
      },
      "source": [
        "Adding **Activation function**"
      ]
    },
    {
      "cell_type": "code",
      "metadata": {
        "id": "7n3ACiMYOOb3"
      },
      "source": [
        "ann.add(tf.keras.layers.Dense(units=1,activation=\"sigmoid\"))"
      ],
      "execution_count": 26,
      "outputs": []
    },
    {
      "cell_type": "markdown",
      "metadata": {
        "id": "ZqBNT_wzOUov"
      },
      "source": [
        "## Let's Train the ANN"
      ]
    },
    {
      "cell_type": "markdown",
      "metadata": {
        "id": "xqY5EV1mQVxC"
      },
      "source": [
        "Training the ANN on the Training set"
      ]
    },
    {
      "cell_type": "code",
      "metadata": {
        "id": "gfZ--DugQag3"
      },
      "source": [
        "ann.compile(optimizer='adam',loss = 'binary_crossentropy', metrics = ['accuracy'])"
      ],
      "execution_count": 28,
      "outputs": []
    },
    {
      "cell_type": "code",
      "metadata": {
        "colab": {
          "base_uri": "https://localhost:8080/"
        },
        "id": "qmzfrI74RqCC",
        "outputId": "115472ad-cbad-490f-fb97-bdf9a5a48f53"
      },
      "source": [
        "ann.fit(X_train, y_train, batch_size = 32, epochs=120)"
      ],
      "execution_count": 30,
      "outputs": [
        {
          "output_type": "stream",
          "text": [
            "Epoch 1/120\n",
            "235/235 [==============================] - 0s 1ms/step - loss: 0.3293 - accuracy: 0.8671\n",
            "Epoch 2/120\n",
            "235/235 [==============================] - 0s 1ms/step - loss: 0.3293 - accuracy: 0.8657\n",
            "Epoch 3/120\n",
            "235/235 [==============================] - 0s 1ms/step - loss: 0.3294 - accuracy: 0.8676\n",
            "Epoch 4/120\n",
            "235/235 [==============================] - 0s 1ms/step - loss: 0.3292 - accuracy: 0.8669\n",
            "Epoch 5/120\n",
            "235/235 [==============================] - 0s 1ms/step - loss: 0.3294 - accuracy: 0.8665\n",
            "Epoch 6/120\n",
            "235/235 [==============================] - 0s 1ms/step - loss: 0.3296 - accuracy: 0.8656\n",
            "Epoch 7/120\n",
            "235/235 [==============================] - 0s 1ms/step - loss: 0.3293 - accuracy: 0.8685\n",
            "Epoch 8/120\n",
            "235/235 [==============================] - 0s 1ms/step - loss: 0.3290 - accuracy: 0.8653\n",
            "Epoch 9/120\n",
            "235/235 [==============================] - 0s 1ms/step - loss: 0.3290 - accuracy: 0.8663\n",
            "Epoch 10/120\n",
            "235/235 [==============================] - 0s 1ms/step - loss: 0.3286 - accuracy: 0.8672\n",
            "Epoch 11/120\n",
            "235/235 [==============================] - 0s 1ms/step - loss: 0.3290 - accuracy: 0.8660\n",
            "Epoch 12/120\n",
            "235/235 [==============================] - 0s 1ms/step - loss: 0.3293 - accuracy: 0.8649\n",
            "Epoch 13/120\n",
            "235/235 [==============================] - 0s 1ms/step - loss: 0.3287 - accuracy: 0.8664\n",
            "Epoch 14/120\n",
            "235/235 [==============================] - 0s 1ms/step - loss: 0.3288 - accuracy: 0.8679\n",
            "Epoch 15/120\n",
            "235/235 [==============================] - 0s 1ms/step - loss: 0.3286 - accuracy: 0.8656\n",
            "Epoch 16/120\n",
            "235/235 [==============================] - 0s 1ms/step - loss: 0.3286 - accuracy: 0.8667\n",
            "Epoch 17/120\n",
            "235/235 [==============================] - 0s 1ms/step - loss: 0.3289 - accuracy: 0.8667\n",
            "Epoch 18/120\n",
            "235/235 [==============================] - 0s 1ms/step - loss: 0.3285 - accuracy: 0.8669\n",
            "Epoch 19/120\n",
            "235/235 [==============================] - 0s 1ms/step - loss: 0.3284 - accuracy: 0.8665\n",
            "Epoch 20/120\n",
            "235/235 [==============================] - 0s 1ms/step - loss: 0.3284 - accuracy: 0.8667\n",
            "Epoch 21/120\n",
            "235/235 [==============================] - 0s 2ms/step - loss: 0.3285 - accuracy: 0.8672\n",
            "Epoch 22/120\n",
            "235/235 [==============================] - 0s 1ms/step - loss: 0.3284 - accuracy: 0.8667\n",
            "Epoch 23/120\n",
            "235/235 [==============================] - 0s 1ms/step - loss: 0.3284 - accuracy: 0.8656\n",
            "Epoch 24/120\n",
            "235/235 [==============================] - 0s 1ms/step - loss: 0.3283 - accuracy: 0.8656\n",
            "Epoch 25/120\n",
            "235/235 [==============================] - 0s 1ms/step - loss: 0.3284 - accuracy: 0.8667\n",
            "Epoch 26/120\n",
            "235/235 [==============================] - 0s 2ms/step - loss: 0.3282 - accuracy: 0.8659\n",
            "Epoch 27/120\n",
            "235/235 [==============================] - 0s 1ms/step - loss: 0.3283 - accuracy: 0.8675\n",
            "Epoch 28/120\n",
            "235/235 [==============================] - 0s 1ms/step - loss: 0.3284 - accuracy: 0.8668\n",
            "Epoch 29/120\n",
            "235/235 [==============================] - 0s 1ms/step - loss: 0.3282 - accuracy: 0.8668\n",
            "Epoch 30/120\n",
            "235/235 [==============================] - 0s 1ms/step - loss: 0.3281 - accuracy: 0.8661\n",
            "Epoch 31/120\n",
            "235/235 [==============================] - 0s 1ms/step - loss: 0.3282 - accuracy: 0.8673\n",
            "Epoch 32/120\n",
            "235/235 [==============================] - 0s 1ms/step - loss: 0.3283 - accuracy: 0.8676\n",
            "Epoch 33/120\n",
            "235/235 [==============================] - 0s 1ms/step - loss: 0.3284 - accuracy: 0.8664\n",
            "Epoch 34/120\n",
            "235/235 [==============================] - 0s 1ms/step - loss: 0.3284 - accuracy: 0.8656\n",
            "Epoch 35/120\n",
            "235/235 [==============================] - 0s 1ms/step - loss: 0.3284 - accuracy: 0.8657\n",
            "Epoch 36/120\n",
            "235/235 [==============================] - 0s 1ms/step - loss: 0.3278 - accuracy: 0.8677\n",
            "Epoch 37/120\n",
            "235/235 [==============================] - 0s 1ms/step - loss: 0.3280 - accuracy: 0.8651\n",
            "Epoch 38/120\n",
            "235/235 [==============================] - 0s 1ms/step - loss: 0.3277 - accuracy: 0.8680\n",
            "Epoch 39/120\n",
            "235/235 [==============================] - 0s 1ms/step - loss: 0.3279 - accuracy: 0.8676\n",
            "Epoch 40/120\n",
            "235/235 [==============================] - 0s 1ms/step - loss: 0.3280 - accuracy: 0.8660\n",
            "Epoch 41/120\n",
            "235/235 [==============================] - 0s 1ms/step - loss: 0.3286 - accuracy: 0.8676\n",
            "Epoch 42/120\n",
            "235/235 [==============================] - 0s 1ms/step - loss: 0.3285 - accuracy: 0.8663\n",
            "Epoch 43/120\n",
            "235/235 [==============================] - 0s 1ms/step - loss: 0.3279 - accuracy: 0.8661\n",
            "Epoch 44/120\n",
            "235/235 [==============================] - 0s 1ms/step - loss: 0.3281 - accuracy: 0.8680\n",
            "Epoch 45/120\n",
            "235/235 [==============================] - 0s 1ms/step - loss: 0.3278 - accuracy: 0.8681\n",
            "Epoch 46/120\n",
            "235/235 [==============================] - 0s 1ms/step - loss: 0.3277 - accuracy: 0.8659\n",
            "Epoch 47/120\n",
            "235/235 [==============================] - 0s 1ms/step - loss: 0.3275 - accuracy: 0.8665\n",
            "Epoch 48/120\n",
            "235/235 [==============================] - 0s 1ms/step - loss: 0.3275 - accuracy: 0.8671\n",
            "Epoch 49/120\n",
            "235/235 [==============================] - 0s 1ms/step - loss: 0.3276 - accuracy: 0.8669\n",
            "Epoch 50/120\n",
            "235/235 [==============================] - 0s 1ms/step - loss: 0.3277 - accuracy: 0.8679\n",
            "Epoch 51/120\n",
            "235/235 [==============================] - 0s 1ms/step - loss: 0.3277 - accuracy: 0.8668\n",
            "Epoch 52/120\n",
            "235/235 [==============================] - 0s 1ms/step - loss: 0.3278 - accuracy: 0.8664\n",
            "Epoch 53/120\n",
            "235/235 [==============================] - 0s 1ms/step - loss: 0.3276 - accuracy: 0.8673\n",
            "Epoch 54/120\n",
            "235/235 [==============================] - 0s 1ms/step - loss: 0.3274 - accuracy: 0.8660\n",
            "Epoch 55/120\n",
            "235/235 [==============================] - 0s 1ms/step - loss: 0.3275 - accuracy: 0.8664\n",
            "Epoch 56/120\n",
            "235/235 [==============================] - 0s 1ms/step - loss: 0.3273 - accuracy: 0.8665\n",
            "Epoch 57/120\n",
            "235/235 [==============================] - 0s 1ms/step - loss: 0.3275 - accuracy: 0.8663\n",
            "Epoch 58/120\n",
            "235/235 [==============================] - 0s 1ms/step - loss: 0.3273 - accuracy: 0.8661\n",
            "Epoch 59/120\n",
            "235/235 [==============================] - 0s 1ms/step - loss: 0.3269 - accuracy: 0.8692\n",
            "Epoch 60/120\n",
            "235/235 [==============================] - 0s 1ms/step - loss: 0.3272 - accuracy: 0.8668\n",
            "Epoch 61/120\n",
            "235/235 [==============================] - 0s 1ms/step - loss: 0.3276 - accuracy: 0.8665\n",
            "Epoch 62/120\n",
            "235/235 [==============================] - 0s 1ms/step - loss: 0.3275 - accuracy: 0.8668\n",
            "Epoch 63/120\n",
            "235/235 [==============================] - 0s 1ms/step - loss: 0.3273 - accuracy: 0.8676\n",
            "Epoch 64/120\n",
            "235/235 [==============================] - 0s 1ms/step - loss: 0.3275 - accuracy: 0.8673\n",
            "Epoch 65/120\n",
            "235/235 [==============================] - 0s 1ms/step - loss: 0.3268 - accuracy: 0.8657\n",
            "Epoch 66/120\n",
            "235/235 [==============================] - 0s 1ms/step - loss: 0.3275 - accuracy: 0.8665\n",
            "Epoch 67/120\n",
            "235/235 [==============================] - 0s 1ms/step - loss: 0.3276 - accuracy: 0.8681\n",
            "Epoch 68/120\n",
            "235/235 [==============================] - 0s 1ms/step - loss: 0.3273 - accuracy: 0.8668\n",
            "Epoch 69/120\n",
            "235/235 [==============================] - 0s 1ms/step - loss: 0.3269 - accuracy: 0.8673\n",
            "Epoch 70/120\n",
            "235/235 [==============================] - 0s 1ms/step - loss: 0.3271 - accuracy: 0.8677\n",
            "Epoch 71/120\n",
            "235/235 [==============================] - 0s 1ms/step - loss: 0.3272 - accuracy: 0.8671\n",
            "Epoch 72/120\n",
            "235/235 [==============================] - 0s 1ms/step - loss: 0.3265 - accuracy: 0.8677\n",
            "Epoch 73/120\n",
            "235/235 [==============================] - 0s 1ms/step - loss: 0.3269 - accuracy: 0.8676\n",
            "Epoch 74/120\n",
            "235/235 [==============================] - 0s 2ms/step - loss: 0.3269 - accuracy: 0.8675\n",
            "Epoch 75/120\n",
            "235/235 [==============================] - 0s 1ms/step - loss: 0.3267 - accuracy: 0.8675\n",
            "Epoch 76/120\n",
            "235/235 [==============================] - 0s 1ms/step - loss: 0.3273 - accuracy: 0.8673\n",
            "Epoch 77/120\n",
            "235/235 [==============================] - 0s 1ms/step - loss: 0.3267 - accuracy: 0.8665\n",
            "Epoch 78/120\n",
            "235/235 [==============================] - 0s 1ms/step - loss: 0.3272 - accuracy: 0.8672\n",
            "Epoch 79/120\n",
            "235/235 [==============================] - 0s 1ms/step - loss: 0.3272 - accuracy: 0.8681\n",
            "Epoch 80/120\n",
            "235/235 [==============================] - 0s 1ms/step - loss: 0.3268 - accuracy: 0.8667\n",
            "Epoch 81/120\n",
            "235/235 [==============================] - 0s 1ms/step - loss: 0.3266 - accuracy: 0.8677\n",
            "Epoch 82/120\n",
            "235/235 [==============================] - 0s 1ms/step - loss: 0.3270 - accuracy: 0.8665\n",
            "Epoch 83/120\n",
            "235/235 [==============================] - 0s 1ms/step - loss: 0.3269 - accuracy: 0.8675\n",
            "Epoch 84/120\n",
            "235/235 [==============================] - 0s 1ms/step - loss: 0.3269 - accuracy: 0.8680\n",
            "Epoch 85/120\n",
            "235/235 [==============================] - 0s 2ms/step - loss: 0.3265 - accuracy: 0.8684\n",
            "Epoch 86/120\n",
            "235/235 [==============================] - 0s 1ms/step - loss: 0.3267 - accuracy: 0.8676\n",
            "Epoch 87/120\n",
            "235/235 [==============================] - 0s 2ms/step - loss: 0.3268 - accuracy: 0.8653\n",
            "Epoch 88/120\n",
            "235/235 [==============================] - 0s 1ms/step - loss: 0.3267 - accuracy: 0.8679\n",
            "Epoch 89/120\n",
            "235/235 [==============================] - 0s 1ms/step - loss: 0.3268 - accuracy: 0.8679\n",
            "Epoch 90/120\n",
            "235/235 [==============================] - 0s 1ms/step - loss: 0.3272 - accuracy: 0.8668\n",
            "Epoch 91/120\n",
            "235/235 [==============================] - 0s 1ms/step - loss: 0.3262 - accuracy: 0.8679\n",
            "Epoch 92/120\n",
            "235/235 [==============================] - 0s 1ms/step - loss: 0.3267 - accuracy: 0.8668\n",
            "Epoch 93/120\n",
            "235/235 [==============================] - 0s 1ms/step - loss: 0.3268 - accuracy: 0.8680\n",
            "Epoch 94/120\n",
            "235/235 [==============================] - 0s 1ms/step - loss: 0.3269 - accuracy: 0.8677\n",
            "Epoch 95/120\n",
            "235/235 [==============================] - 0s 1ms/step - loss: 0.3265 - accuracy: 0.8653\n",
            "Epoch 96/120\n",
            "235/235 [==============================] - 0s 1ms/step - loss: 0.3263 - accuracy: 0.8675\n",
            "Epoch 97/120\n",
            "235/235 [==============================] - 0s 1ms/step - loss: 0.3267 - accuracy: 0.8675\n",
            "Epoch 98/120\n",
            "235/235 [==============================] - 0s 1ms/step - loss: 0.3264 - accuracy: 0.8673\n",
            "Epoch 99/120\n",
            "235/235 [==============================] - 0s 1ms/step - loss: 0.3266 - accuracy: 0.8656\n",
            "Epoch 100/120\n",
            "235/235 [==============================] - 0s 1ms/step - loss: 0.3262 - accuracy: 0.8680\n",
            "Epoch 101/120\n",
            "235/235 [==============================] - 0s 1ms/step - loss: 0.3264 - accuracy: 0.8691\n",
            "Epoch 102/120\n",
            "235/235 [==============================] - 0s 2ms/step - loss: 0.3267 - accuracy: 0.8668\n",
            "Epoch 103/120\n",
            "235/235 [==============================] - 0s 1ms/step - loss: 0.3265 - accuracy: 0.8673\n",
            "Epoch 104/120\n",
            "235/235 [==============================] - 0s 1ms/step - loss: 0.3264 - accuracy: 0.8675\n",
            "Epoch 105/120\n",
            "235/235 [==============================] - 0s 1ms/step - loss: 0.3263 - accuracy: 0.8657\n",
            "Epoch 106/120\n",
            "235/235 [==============================] - 0s 1ms/step - loss: 0.3264 - accuracy: 0.8671\n",
            "Epoch 107/120\n",
            "235/235 [==============================] - 0s 1ms/step - loss: 0.3261 - accuracy: 0.8681\n",
            "Epoch 108/120\n",
            "235/235 [==============================] - 0s 1ms/step - loss: 0.3264 - accuracy: 0.8692\n",
            "Epoch 109/120\n",
            "235/235 [==============================] - 0s 1ms/step - loss: 0.3262 - accuracy: 0.8667\n",
            "Epoch 110/120\n",
            "235/235 [==============================] - 0s 1ms/step - loss: 0.3264 - accuracy: 0.8680\n",
            "Epoch 111/120\n",
            "235/235 [==============================] - 0s 2ms/step - loss: 0.3263 - accuracy: 0.8675\n",
            "Epoch 112/120\n",
            "235/235 [==============================] - 0s 1ms/step - loss: 0.3259 - accuracy: 0.8664\n",
            "Epoch 113/120\n",
            "235/235 [==============================] - 0s 2ms/step - loss: 0.3262 - accuracy: 0.8680\n",
            "Epoch 114/120\n",
            "235/235 [==============================] - 0s 1ms/step - loss: 0.3266 - accuracy: 0.8663\n",
            "Epoch 115/120\n",
            "235/235 [==============================] - 0s 1ms/step - loss: 0.3263 - accuracy: 0.8693\n",
            "Epoch 116/120\n",
            "235/235 [==============================] - 0s 2ms/step - loss: 0.3261 - accuracy: 0.8679\n",
            "Epoch 117/120\n",
            "235/235 [==============================] - 0s 1ms/step - loss: 0.3263 - accuracy: 0.8672\n",
            "Epoch 118/120\n",
            "235/235 [==============================] - 0s 1ms/step - loss: 0.3261 - accuracy: 0.8669\n",
            "Epoch 119/120\n",
            "235/235 [==============================] - 0s 1ms/step - loss: 0.3259 - accuracy: 0.8672\n",
            "Epoch 120/120\n",
            "235/235 [==============================] - 0s 1ms/step - loss: 0.3265 - accuracy: 0.8680\n"
          ],
          "name": "stdout"
        },
        {
          "output_type": "execute_result",
          "data": {
            "text/plain": [
              "<tensorflow.python.keras.callbacks.History at 0x7fc6d912f0f0>"
            ]
          },
          "metadata": {
            "tags": []
          },
          "execution_count": 30
        }
      ]
    },
    {
      "cell_type": "markdown",
      "metadata": {
        "id": "PhhW3X1hU9KC"
      },
      "source": [
        "Predicting the result of single Observation"
      ]
    },
    {
      "cell_type": "code",
      "metadata": {
        "colab": {
          "base_uri": "https://localhost:8080/"
        },
        "id": "0Wx4by23VCWG",
        "outputId": "51b456da-0f33-48b9-b735-9e01ed9cfab1"
      },
      "source": [
        "print(ann.predict(sc.transform([[1, 0, 0, 600, 1, 40, 3, 60000, 2, 1, 1, 50000]])) > 0.5)"
      ],
      "execution_count": 34,
      "outputs": [
        {
          "output_type": "stream",
          "text": [
            "[[False]]\n"
          ],
          "name": "stdout"
        }
      ]
    }
  ]
}