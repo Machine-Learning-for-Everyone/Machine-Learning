{
 "cells": [
  {
   "cell_type": "markdown",
   "metadata": {
    "id": "CazISR8X_HUG"
   },
   "source": [
    "# Multiple Linear Regression in Python"
   ]
  },
  {
   "cell_type": "markdown",
   "metadata": {
    "id": "pOyqYHTk_Q57"
   },
   "source": [
    "## Importing the libraries (numpy,pandas,sklearn,matplotlib)\n",
    "\n",
    "> Indented block\n",
    "\n"
   ]
  },
  {
   "cell_type": "code",
   "execution_count": 1,
   "metadata": {
    "id": "T_YHJjnD_Tja"
   },
   "outputs": [],
   "source": [
    "import numpy as np\n",
    "import matplotlib.pyplot as plt\n",
    "import pandas as pd"
   ]
  },
  {
   "cell_type": "markdown",
   "metadata": {
    "id": "vgC61-ah_WIz"
   },
   "source": [
    "## Importing the dataset (Lateral Acceleration)"
   ]
  },
  {
   "cell_type": "code",
   "execution_count": 2,
   "metadata": {
    "colab": {
     "base_uri": "https://localhost:8080/",
     "height": 418
    },
    "id": "UrxyEKGn_ez7",
    "outputId": "4482819d-506c-4c41-85d7-55c8e14a81af"
   },
   "outputs": [
    {
     "data": {
      "text/html": [
       "<div>\n",
       "<style scoped>\n",
       "    .dataframe tbody tr th:only-of-type {\n",
       "        vertical-align: middle;\n",
       "    }\n",
       "\n",
       "    .dataframe tbody tr th {\n",
       "        vertical-align: top;\n",
       "    }\n",
       "\n",
       "    .dataframe thead th {\n",
       "        text-align: right;\n",
       "    }\n",
       "</style>\n",
       "<table border=\"1\" class=\"dataframe\">\n",
       "  <thead>\n",
       "    <tr style=\"text-align: right;\">\n",
       "      <th></th>\n",
       "      <th>Time (in seconds)</th>\n",
       "      <th>Vehicle’s speed (in m/s)</th>\n",
       "      <th>Engine Load (% of max power)</th>\n",
       "      <th>Total Acceleration (m/s^2)</th>\n",
       "      <th>Engine RPM</th>\n",
       "      <th>Pitch</th>\n",
       "      <th>Lateral Acceleration (m/s^2)</th>\n",
       "    </tr>\n",
       "  </thead>\n",
       "  <tbody>\n",
       "    <tr>\n",
       "      <th>0</th>\n",
       "      <td>0.020000</td>\n",
       "      <td>0.000000</td>\n",
       "      <td>0.000000</td>\n",
       "      <td>0.000000</td>\n",
       "      <td>0.000000</td>\n",
       "      <td>-0.323710</td>\n",
       "      <td>0.000000</td>\n",
       "    </tr>\n",
       "    <tr>\n",
       "      <th>1</th>\n",
       "      <td>0.027000</td>\n",
       "      <td>0.000000</td>\n",
       "      <td>0.000000</td>\n",
       "      <td>0.000000</td>\n",
       "      <td>0.000000</td>\n",
       "      <td>-0.333910</td>\n",
       "      <td>0.000000</td>\n",
       "    </tr>\n",
       "    <tr>\n",
       "      <th>2</th>\n",
       "      <td>0.037000</td>\n",
       "      <td>0.000000</td>\n",
       "      <td>0.000000</td>\n",
       "      <td>0.000000</td>\n",
       "      <td>0.000000</td>\n",
       "      <td>-0.344200</td>\n",
       "      <td>0.000000</td>\n",
       "    </tr>\n",
       "    <tr>\n",
       "      <th>3</th>\n",
       "      <td>0.047000</td>\n",
       "      <td>0.000000</td>\n",
       "      <td>0.000000</td>\n",
       "      <td>0.000000</td>\n",
       "      <td>0.000000</td>\n",
       "      <td>-0.354570</td>\n",
       "      <td>0.000000</td>\n",
       "    </tr>\n",
       "    <tr>\n",
       "      <th>4</th>\n",
       "      <td>0.057000</td>\n",
       "      <td>0.000000</td>\n",
       "      <td>0.000000</td>\n",
       "      <td>0.000000</td>\n",
       "      <td>0.000000</td>\n",
       "      <td>-0.365020</td>\n",
       "      <td>0.000000</td>\n",
       "    </tr>\n",
       "    <tr>\n",
       "      <th>...</th>\n",
       "      <td>...</td>\n",
       "      <td>...</td>\n",
       "      <td>...</td>\n",
       "      <td>...</td>\n",
       "      <td>...</td>\n",
       "      <td>...</td>\n",
       "      <td>...</td>\n",
       "    </tr>\n",
       "    <tr>\n",
       "      <th>244338</th>\n",
       "      <td>2443.600000</td>\n",
       "      <td>0.000000</td>\n",
       "      <td>0.000000</td>\n",
       "      <td>0.000000</td>\n",
       "      <td>0.000000</td>\n",
       "      <td>0.000000</td>\n",
       "      <td>0.000000</td>\n",
       "    </tr>\n",
       "    <tr>\n",
       "      <th>244339</th>\n",
       "      <td>2443.700000</td>\n",
       "      <td>0.000000</td>\n",
       "      <td>0.000000</td>\n",
       "      <td>0.000000</td>\n",
       "      <td>0.000000</td>\n",
       "      <td>0.000000</td>\n",
       "      <td>0.000000</td>\n",
       "    </tr>\n",
       "    <tr>\n",
       "      <th>244340</th>\n",
       "      <td>2443.700000</td>\n",
       "      <td>0.000000</td>\n",
       "      <td>0.000000</td>\n",
       "      <td>0.000000</td>\n",
       "      <td>0.000000</td>\n",
       "      <td>0.000000</td>\n",
       "      <td>0.000000</td>\n",
       "    </tr>\n",
       "    <tr>\n",
       "      <th>244341</th>\n",
       "      <td>1221.824441</td>\n",
       "      <td>4.208266</td>\n",
       "      <td>6.506821</td>\n",
       "      <td>0.084486</td>\n",
       "      <td>1346.820666</td>\n",
       "      <td>0.493134</td>\n",
       "      <td>-0.001158</td>\n",
       "    </tr>\n",
       "    <tr>\n",
       "      <th>244342</th>\n",
       "      <td>705.427881</td>\n",
       "      <td>4.589320</td>\n",
       "      <td>6.381330</td>\n",
       "      <td>0.903199</td>\n",
       "      <td>671.321649</td>\n",
       "      <td>2.703698</td>\n",
       "      <td>0.461782</td>\n",
       "    </tr>\n",
       "  </tbody>\n",
       "</table>\n",
       "<p>244343 rows × 7 columns</p>\n",
       "</div>"
      ],
      "text/plain": [
       "        Time (in seconds)  Vehicle’s speed (in m/s)  \\\n",
       "0                0.020000                  0.000000   \n",
       "1                0.027000                  0.000000   \n",
       "2                0.037000                  0.000000   \n",
       "3                0.047000                  0.000000   \n",
       "4                0.057000                  0.000000   \n",
       "...                   ...                       ...   \n",
       "244338        2443.600000                  0.000000   \n",
       "244339        2443.700000                  0.000000   \n",
       "244340        2443.700000                  0.000000   \n",
       "244341        1221.824441                  4.208266   \n",
       "244342         705.427881                  4.589320   \n",
       "\n",
       "        Engine Load (% of max power)  Total Acceleration (m/s^2)   Engine RPM  \\\n",
       "0                           0.000000                    0.000000     0.000000   \n",
       "1                           0.000000                    0.000000     0.000000   \n",
       "2                           0.000000                    0.000000     0.000000   \n",
       "3                           0.000000                    0.000000     0.000000   \n",
       "4                           0.000000                    0.000000     0.000000   \n",
       "...                              ...                         ...          ...   \n",
       "244338                      0.000000                    0.000000     0.000000   \n",
       "244339                      0.000000                    0.000000     0.000000   \n",
       "244340                      0.000000                    0.000000     0.000000   \n",
       "244341                      6.506821                    0.084486  1346.820666   \n",
       "244342                      6.381330                    0.903199   671.321649   \n",
       "\n",
       "           Pitch  Lateral Acceleration (m/s^2)  \n",
       "0      -0.323710                      0.000000  \n",
       "1      -0.333910                      0.000000  \n",
       "2      -0.344200                      0.000000  \n",
       "3      -0.354570                      0.000000  \n",
       "4      -0.365020                      0.000000  \n",
       "...          ...                           ...  \n",
       "244338  0.000000                      0.000000  \n",
       "244339  0.000000                      0.000000  \n",
       "244340  0.000000                      0.000000  \n",
       "244341  0.493134                     -0.001158  \n",
       "244342  2.703698                      0.461782  \n",
       "\n",
       "[244343 rows x 7 columns]"
      ]
     },
     "execution_count": 2,
     "metadata": {},
     "output_type": "execute_result"
    }
   ],
   "source": [
    "dataset = pd.read_csv('DATA.csv',  engine='python')\n",
    "dataset"
   ]
  },
  {
   "cell_type": "code",
   "execution_count": 3,
   "metadata": {
    "id": "Dtoaq2uahuVV"
   },
   "outputs": [],
   "source": [
    "def clean_dataset(df):\n",
    "    assert isinstance(df, pd.DataFrame), \"df needs to be a pd.DataFrame\"\n",
    "    df.dropna(inplace=True)\n",
    "    indices_to_keep = ~df.isin([np.nan, np.inf, -np.inf]).any(1)\n",
    "    return df[indices_to_keep].astype(np.float64)"
   ]
  },
  {
   "cell_type": "code",
   "execution_count": 4,
   "metadata": {
    "colab": {
     "base_uri": "https://localhost:8080/",
     "height": 418
    },
    "id": "r8DDReyqhx8K",
    "outputId": "354556e4-511f-45fe-df82-dd7974bd7bd4"
   },
   "outputs": [
    {
     "data": {
      "text/html": [
       "<div>\n",
       "<style scoped>\n",
       "    .dataframe tbody tr th:only-of-type {\n",
       "        vertical-align: middle;\n",
       "    }\n",
       "\n",
       "    .dataframe tbody tr th {\n",
       "        vertical-align: top;\n",
       "    }\n",
       "\n",
       "    .dataframe thead th {\n",
       "        text-align: right;\n",
       "    }\n",
       "</style>\n",
       "<table border=\"1\" class=\"dataframe\">\n",
       "  <thead>\n",
       "    <tr style=\"text-align: right;\">\n",
       "      <th></th>\n",
       "      <th>Time (in seconds)</th>\n",
       "      <th>Vehicle’s speed (in m/s)</th>\n",
       "      <th>Engine Load (% of max power)</th>\n",
       "      <th>Total Acceleration (m/s^2)</th>\n",
       "      <th>Engine RPM</th>\n",
       "      <th>Pitch</th>\n",
       "      <th>Lateral Acceleration (m/s^2)</th>\n",
       "    </tr>\n",
       "  </thead>\n",
       "  <tbody>\n",
       "    <tr>\n",
       "      <th>0</th>\n",
       "      <td>0.020000</td>\n",
       "      <td>0.000000</td>\n",
       "      <td>0.000000</td>\n",
       "      <td>0.000000</td>\n",
       "      <td>0.000000</td>\n",
       "      <td>-0.323710</td>\n",
       "      <td>0.000000</td>\n",
       "    </tr>\n",
       "    <tr>\n",
       "      <th>1</th>\n",
       "      <td>0.027000</td>\n",
       "      <td>0.000000</td>\n",
       "      <td>0.000000</td>\n",
       "      <td>0.000000</td>\n",
       "      <td>0.000000</td>\n",
       "      <td>-0.333910</td>\n",
       "      <td>0.000000</td>\n",
       "    </tr>\n",
       "    <tr>\n",
       "      <th>2</th>\n",
       "      <td>0.037000</td>\n",
       "      <td>0.000000</td>\n",
       "      <td>0.000000</td>\n",
       "      <td>0.000000</td>\n",
       "      <td>0.000000</td>\n",
       "      <td>-0.344200</td>\n",
       "      <td>0.000000</td>\n",
       "    </tr>\n",
       "    <tr>\n",
       "      <th>3</th>\n",
       "      <td>0.047000</td>\n",
       "      <td>0.000000</td>\n",
       "      <td>0.000000</td>\n",
       "      <td>0.000000</td>\n",
       "      <td>0.000000</td>\n",
       "      <td>-0.354570</td>\n",
       "      <td>0.000000</td>\n",
       "    </tr>\n",
       "    <tr>\n",
       "      <th>4</th>\n",
       "      <td>0.057000</td>\n",
       "      <td>0.000000</td>\n",
       "      <td>0.000000</td>\n",
       "      <td>0.000000</td>\n",
       "      <td>0.000000</td>\n",
       "      <td>-0.365020</td>\n",
       "      <td>0.000000</td>\n",
       "    </tr>\n",
       "    <tr>\n",
       "      <th>...</th>\n",
       "      <td>...</td>\n",
       "      <td>...</td>\n",
       "      <td>...</td>\n",
       "      <td>...</td>\n",
       "      <td>...</td>\n",
       "      <td>...</td>\n",
       "      <td>...</td>\n",
       "    </tr>\n",
       "    <tr>\n",
       "      <th>244338</th>\n",
       "      <td>2443.600000</td>\n",
       "      <td>0.000000</td>\n",
       "      <td>0.000000</td>\n",
       "      <td>0.000000</td>\n",
       "      <td>0.000000</td>\n",
       "      <td>0.000000</td>\n",
       "      <td>0.000000</td>\n",
       "    </tr>\n",
       "    <tr>\n",
       "      <th>244339</th>\n",
       "      <td>2443.700000</td>\n",
       "      <td>0.000000</td>\n",
       "      <td>0.000000</td>\n",
       "      <td>0.000000</td>\n",
       "      <td>0.000000</td>\n",
       "      <td>0.000000</td>\n",
       "      <td>0.000000</td>\n",
       "    </tr>\n",
       "    <tr>\n",
       "      <th>244340</th>\n",
       "      <td>2443.700000</td>\n",
       "      <td>0.000000</td>\n",
       "      <td>0.000000</td>\n",
       "      <td>0.000000</td>\n",
       "      <td>0.000000</td>\n",
       "      <td>0.000000</td>\n",
       "      <td>0.000000</td>\n",
       "    </tr>\n",
       "    <tr>\n",
       "      <th>244341</th>\n",
       "      <td>1221.824441</td>\n",
       "      <td>4.208266</td>\n",
       "      <td>6.506821</td>\n",
       "      <td>0.084486</td>\n",
       "      <td>1346.820666</td>\n",
       "      <td>0.493134</td>\n",
       "      <td>-0.001158</td>\n",
       "    </tr>\n",
       "    <tr>\n",
       "      <th>244342</th>\n",
       "      <td>705.427881</td>\n",
       "      <td>4.589320</td>\n",
       "      <td>6.381330</td>\n",
       "      <td>0.903199</td>\n",
       "      <td>671.321649</td>\n",
       "      <td>2.703698</td>\n",
       "      <td>0.461782</td>\n",
       "    </tr>\n",
       "  </tbody>\n",
       "</table>\n",
       "<p>244343 rows × 7 columns</p>\n",
       "</div>"
      ],
      "text/plain": [
       "        Time (in seconds)  Vehicle’s speed (in m/s)  \\\n",
       "0                0.020000                  0.000000   \n",
       "1                0.027000                  0.000000   \n",
       "2                0.037000                  0.000000   \n",
       "3                0.047000                  0.000000   \n",
       "4                0.057000                  0.000000   \n",
       "...                   ...                       ...   \n",
       "244338        2443.600000                  0.000000   \n",
       "244339        2443.700000                  0.000000   \n",
       "244340        2443.700000                  0.000000   \n",
       "244341        1221.824441                  4.208266   \n",
       "244342         705.427881                  4.589320   \n",
       "\n",
       "        Engine Load (% of max power)  Total Acceleration (m/s^2)   Engine RPM  \\\n",
       "0                           0.000000                    0.000000     0.000000   \n",
       "1                           0.000000                    0.000000     0.000000   \n",
       "2                           0.000000                    0.000000     0.000000   \n",
       "3                           0.000000                    0.000000     0.000000   \n",
       "4                           0.000000                    0.000000     0.000000   \n",
       "...                              ...                         ...          ...   \n",
       "244338                      0.000000                    0.000000     0.000000   \n",
       "244339                      0.000000                    0.000000     0.000000   \n",
       "244340                      0.000000                    0.000000     0.000000   \n",
       "244341                      6.506821                    0.084486  1346.820666   \n",
       "244342                      6.381330                    0.903199   671.321649   \n",
       "\n",
       "           Pitch  Lateral Acceleration (m/s^2)  \n",
       "0      -0.323710                      0.000000  \n",
       "1      -0.333910                      0.000000  \n",
       "2      -0.344200                      0.000000  \n",
       "3      -0.354570                      0.000000  \n",
       "4      -0.365020                      0.000000  \n",
       "...          ...                           ...  \n",
       "244338  0.000000                      0.000000  \n",
       "244339  0.000000                      0.000000  \n",
       "244340  0.000000                      0.000000  \n",
       "244341  0.493134                     -0.001158  \n",
       "244342  2.703698                      0.461782  \n",
       "\n",
       "[244343 rows x 7 columns]"
      ]
     },
     "execution_count": 4,
     "metadata": {},
     "output_type": "execute_result"
    }
   ],
   "source": [
    "clean_dataset(dataset)"
   ]
  },
  {
   "cell_type": "markdown",
   "metadata": {
    "id": "j39XlwKAFcg-"
   },
   "source": [
    "# **Spliting Dependent and Independent variable**"
   ]
  },
  {
   "cell_type": "code",
   "execution_count": 5,
   "metadata": {
    "colab": {
     "base_uri": "https://localhost:8080/"
    },
    "id": "GOB3QhV9B5kD",
    "outputId": "0ef3793f-6b01-49d2-8812-b08eaf839bcc"
   },
   "outputs": [
    {
     "data": {
      "text/plain": [
       "array([[ 2.00000e-02,  0.00000e+00,  0.00000e+00,  0.00000e+00,\n",
       "         0.00000e+00, -3.20000e-01],\n",
       "       [ 3.00000e-02,  0.00000e+00,  0.00000e+00,  0.00000e+00,\n",
       "         0.00000e+00, -3.30000e-01],\n",
       "       [ 4.00000e-02,  0.00000e+00,  0.00000e+00,  0.00000e+00,\n",
       "         0.00000e+00, -3.40000e-01],\n",
       "       ...,\n",
       "       [ 2.44370e+03,  0.00000e+00,  0.00000e+00,  0.00000e+00,\n",
       "         0.00000e+00,  0.00000e+00],\n",
       "       [ 1.22182e+03,  4.21000e+00,  6.51000e+00,  8.00000e-02,\n",
       "         1.34682e+03,  4.90000e-01],\n",
       "       [ 7.05430e+02,  4.59000e+00,  6.38000e+00,  9.00000e-01,\n",
       "         6.71320e+02,  2.70000e+00]])"
      ]
     },
     "execution_count": 5,
     "metadata": {},
     "output_type": "execute_result"
    }
   ],
   "source": [
    "X = dataset.iloc[:,0:-1].values.round(decimals=2)\n",
    "y = dataset.iloc[:,-1:].values.round(decimals=2)\n",
    "X"
   ]
  },
  {
   "cell_type": "code",
   "execution_count": 6,
   "metadata": {
    "colab": {
     "base_uri": "https://localhost:8080/"
    },
    "id": "HbCWt5YNF5Rr",
    "outputId": "3f62fecb-42f9-4330-ac73-823922ee5fc3"
   },
   "outputs": [
    {
     "data": {
      "text/plain": [
       "array([[ 0.  ],\n",
       "       [ 0.  ],\n",
       "       [ 0.  ],\n",
       "       ...,\n",
       "       [ 0.  ],\n",
       "       [-0.  ],\n",
       "       [ 0.46]])"
      ]
     },
     "execution_count": 6,
     "metadata": {},
     "output_type": "execute_result"
    }
   ],
   "source": [
    "y"
   ]
  },
  {
   "cell_type": "markdown",
   "metadata": {
    "id": "VadrvE7s_lS9"
   },
   "source": [
    "## Encoding categorical data"
   ]
  },
  {
   "cell_type": "code",
   "execution_count": 7,
   "metadata": {
    "id": "wV3fD1mbAvsh"
   },
   "outputs": [],
   "source": [
    "from sklearn.impute import SimpleImputer\n",
    "imputer = SimpleImputer(missing_values=np.nan,strategy='mean')\n",
    "imputer.fit(X[:,0:-1])\n",
    "X[:,0:-1]=imputer.transform(X[:,0:-1])"
   ]
  },
  {
   "cell_type": "code",
   "execution_count": 8,
   "metadata": {
    "id": "DVWq-eGxbjjW"
   },
   "outputs": [],
   "source": [
    "imputer.fit_transform(y[:,0:])\n",
    "y[:,0:]=imputer.transform(y[:,0:])"
   ]
  },
  {
   "cell_type": "code",
   "execution_count": 9,
   "metadata": {
    "colab": {
     "base_uri": "https://localhost:8080/"
    },
    "id": "4ym3HdYeCGYG",
    "outputId": "22860311-019e-45ff-a145-97b3367c9cb9"
   },
   "outputs": [
    {
     "name": "stdout",
     "output_type": "stream",
     "text": [
      "[[ 2.00000e-02  0.00000e+00  0.00000e+00  0.00000e+00  0.00000e+00\n",
      "  -3.20000e-01]\n",
      " [ 3.00000e-02  0.00000e+00  0.00000e+00  0.00000e+00  0.00000e+00\n",
      "  -3.30000e-01]\n",
      " [ 4.00000e-02  0.00000e+00  0.00000e+00  0.00000e+00  0.00000e+00\n",
      "  -3.40000e-01]\n",
      " ...\n",
      " [ 2.44370e+03  0.00000e+00  0.00000e+00  0.00000e+00  0.00000e+00\n",
      "   0.00000e+00]\n",
      " [ 1.22182e+03  4.21000e+00  6.51000e+00  8.00000e-02  1.34682e+03\n",
      "   4.90000e-01]\n",
      " [ 7.05430e+02  4.59000e+00  6.38000e+00  9.00000e-01  6.71320e+02\n",
      "   2.70000e+00]]\n"
     ]
    }
   ],
   "source": [
    "print(X)"
   ]
  },
  {
   "cell_type": "code",
   "execution_count": 10,
   "metadata": {
    "colab": {
     "base_uri": "https://localhost:8080/"
    },
    "id": "-sI_jfgzb_2d",
    "outputId": "f64e2a69-aaaa-4b3d-c37a-c4d966ad018f"
   },
   "outputs": [
    {
     "name": "stdout",
     "output_type": "stream",
     "text": [
      "[[ 0.  ]\n",
      " [ 0.  ]\n",
      " [ 0.  ]\n",
      " ...\n",
      " [ 0.  ]\n",
      " [-0.  ]\n",
      " [ 0.46]]\n"
     ]
    }
   ],
   "source": [
    "print(y)"
   ]
  },
  {
   "cell_type": "markdown",
   "metadata": {
    "id": "WemVnqgeA70k"
   },
   "source": [
    "## Splitting the dataset into the Training set and Test set"
   ]
  },
  {
   "cell_type": "code",
   "execution_count": 11,
   "metadata": {
    "id": "ijG3GlnTodRH"
   },
   "outputs": [],
   "source": [
    "from sklearn.model_selection import train_test_split\n",
    "X_train,X_test,y_train,y_test = train_test_split(X,y,test_size=0.3,random_state=0)"
   ]
  },
  {
   "cell_type": "code",
   "execution_count": 12,
   "metadata": {
    "colab": {
     "base_uri": "https://localhost:8080/",
     "height": 265
    },
    "id": "5GgJa9WerkhP",
    "outputId": "584d1ef8-b1b9-41a2-a3d5-ee7ac67ef2d2"
   },
   "outputs": [
    {
     "data": {
      "image/png": "[encoded data removed]",
      "text/plain": [
       "<Figure size 432x288 with 1 Axes>"
      ]
     },
     "metadata": {
      "needs_background": "light"
     },
     "output_type": "display_data"
    }
   ],
   "source": [
    "import matplotlib.pyplot as plt\n",
    "plt.plot(X_train,y_train)\n",
    "plt.show()"
   ]
  },
  {
   "cell_type": "code",
   "execution_count": 13,
   "metadata": {
    "colab": {
     "base_uri": "https://localhost:8080/",
     "height": 265
    },
    "id": "H-S6KWhdru-V",
    "outputId": "8a5d66da-1c29-4952-d4c4-bf07d6293b5f"
   },
   "outputs": [
    {
     "data": {
      "image/png": "[encoded data removed]",
      "text/plain": [
       "<Figure size 432x288 with 1 Axes>"
      ]
     },
     "metadata": {
      "needs_background": "light"
     },
     "output_type": "display_data"
    }
   ],
   "source": [
    "import matplotlib.pyplot as plt\n",
    "plt.plot(X,y)\n",
    "plt.show()"
   ]
  },
  {
   "cell_type": "markdown",
   "metadata": {
    "id": "k-McZVsQBINc"
   },
   "source": [
    "## Training the Multiple Linear Regression model on the Training set"
   ]
  },
  {
   "cell_type": "code",
   "execution_count": 14,
   "metadata": {
    "colab": {
     "base_uri": "https://localhost:8080/"
    },
    "id": "2HQMO_SlgzGW",
    "outputId": "d0d39e58-44dc-4de2-acd3-87e7b2291ff1"
   },
   "outputs": [
    {
     "data": {
      "text/plain": [
       "False"
      ]
     },
     "execution_count": 14,
     "metadata": {},
     "output_type": "execute_result"
    }
   ],
   "source": [
    "np.any(np.isnan(X))\n"
   ]
  },
  {
   "cell_type": "code",
   "execution_count": null,
   "metadata": {
    "id": "nyK5n5BIhbAT"
   },
   "outputs": [],
   "source": []
  },
  {
   "cell_type": "code",
   "execution_count": 15,
   "metadata": {
    "colab": {
     "base_uri": "https://localhost:8080/"
    },
    "id": "ZeXE4vp1g8bK",
    "outputId": "58fae42d-a7d8-48f6-d738-a8b0f42b4679"
   },
   "outputs": [
    {
     "data": {
      "text/plain": [
       "True"
      ]
     },
     "execution_count": 15,
     "metadata": {},
     "output_type": "execute_result"
    }
   ],
   "source": [
    "np.all(np.isfinite(X))"
   ]
  },
  {
   "cell_type": "code",
   "execution_count": 16,
   "metadata": {
    "colab": {
     "base_uri": "https://localhost:8080/"
    },
    "id": "NVZG6Dv2g3vi",
    "outputId": "c43ff77b-1bed-4b20-fe2f-05b59365d57f"
   },
   "outputs": [
    {
     "data": {
      "text/plain": [
       "True"
      ]
     },
     "execution_count": 16,
     "metadata": {},
     "output_type": "execute_result"
    }
   ],
   "source": [
    "np.all(np.isfinite(y))"
   ]
  },
  {
   "cell_type": "code",
   "execution_count": 17,
   "metadata": {
    "colab": {
     "base_uri": "https://localhost:8080/"
    },
    "id": "rrZLXZYwg_T7",
    "outputId": "f094e34e-b79f-4b22-9cd6-4e7d31bb083a"
   },
   "outputs": [
    {
     "data": {
      "text/plain": [
       "False"
      ]
     },
     "execution_count": 17,
     "metadata": {},
     "output_type": "execute_result"
    }
   ],
   "source": [
    "np.any(np.isnan(y))"
   ]
  },
  {
   "cell_type": "code",
   "execution_count": 18,
   "metadata": {
    "colab": {
     "base_uri": "https://localhost:8080/"
    },
    "id": "YBjOYBucpQTS",
    "outputId": "34f8dc05-df2b-486c-8d4a-3807255dfdbb"
   },
   "outputs": [
    {
     "data": {
      "text/plain": [
       "LinearRegression()"
      ]
     },
     "execution_count": 18,
     "metadata": {},
     "output_type": "execute_result"
    }
   ],
   "source": [
    "from sklearn.linear_model import LinearRegression\n",
    "reg = LinearRegression()\n",
    "res=reg.fit(X_train,y_train)\n",
    "res"
   ]
  },
  {
   "cell_type": "code",
   "execution_count": 19,
   "metadata": {
    "colab": {
     "base_uri": "https://localhost:8080/",
     "height": 265
    },
    "id": "LHHtWO_xrzlt",
    "outputId": "2dd0b6c3-3d23-4bef-9498-5938c37e618d"
   },
   "outputs": [
    {
     "data": {
      "image/png": "[encoded data removed]",
      "text/plain": [
       "<Figure size 432x288 with 1 Axes>"
      ]
     },
     "metadata": {
      "needs_background": "light"
     },
     "output_type": "display_data"
    }
   ],
   "source": [
    "import matplotlib.pyplot as plt\n",
    "plt.plot(X_train,y_train)\n",
    "plt.show()"
   ]
  },
  {
   "cell_type": "markdown",
   "metadata": {
    "id": "xNkXL1YQBiBT"
   },
   "source": [
    "## Predicting the Test set results"
   ]
  },
  {
   "cell_type": "code",
   "execution_count": 20,
   "metadata": {
    "colab": {
     "base_uri": "https://localhost:8080/"
    },
    "id": "AC2ktQ3qp7uW",
    "outputId": "e038ce5d-f8be-4314-f0f9-9746cbdb48ed"
   },
   "outputs": [
    {
     "data": {
      "text/plain": [
       "array([[-0.01531711],\n",
       "       [-0.01356831],\n",
       "       [-0.08648682],\n",
       "       ...,\n",
       "       [-0.10110775],\n",
       "       [-0.00538955],\n",
       "       [-0.04058159]])"
      ]
     },
     "execution_count": 20,
     "metadata": {},
     "output_type": "execute_result"
    }
   ],
   "source": [
    "y_p = reg.predict(X_test)\n",
    "y_p"
   ]
  },
  {
   "cell_type": "code",
   "execution_count": 21,
   "metadata": {
    "colab": {
     "base_uri": "https://localhost:8080/",
     "height": 265
    },
    "id": "cgA3Pyg_tr3A",
    "outputId": "212f1f1c-321b-4be0-cbbf-c97ac78db550"
   },
   "outputs": [
    {
     "data": {
      "image/png": "[encoded data removed]",
      "text/plain": [
       "<Figure size 432x288 with 1 Axes>"
      ]
     },
     "metadata": {
      "needs_background": "light"
     },
     "output_type": "display_data"
    }
   ],
   "source": [
    "import matplotlib.pyplot as plt\n",
    "plt.plot(X_test,y_p)\n",
    "plt.show()"
   ]
  },
  {
   "cell_type": "code",
   "execution_count": 22,
   "metadata": {
    "colab": {
     "base_uri": "https://localhost:8080/"
    },
    "id": "k0zYV5gttya2",
    "outputId": "bf4b2413-99ab-4a2d-a9ce-160ca8d7fa44"
   },
   "outputs": [
    {
     "name": "stdout",
     "output_type": "stream",
     "text": [
      "[[ 0.  ]\n",
      " [ 0.  ]\n",
      " [ 0.  ]\n",
      " ...\n",
      " [ 0.  ]\n",
      " [-0.  ]\n",
      " [ 0.46]] [[-0.01531711]\n",
      " [-0.01356831]\n",
      " [-0.08648682]\n",
      " ...\n",
      " [-0.10110775]\n",
      " [-0.00538955]\n",
      " [-0.04058159]]\n",
      "[[-0.02  0.  ]\n",
      " [-0.01 -0.  ]\n",
      " [-0.09  0.02]\n",
      " ...\n",
      " [-0.1  -1.6 ]\n",
      " [-0.01  0.  ]\n",
      " [-0.04 -0.  ]]\n"
     ]
    },
    {
     "data": {
      "text/plain": [
       "array([[-0.02,  0.  ],\n",
       "       [-0.01, -0.  ],\n",
       "       [-0.09,  0.02],\n",
       "       ...,\n",
       "       [-0.1 , -1.6 ],\n",
       "       [-0.01,  0.  ],\n",
       "       [-0.04, -0.  ]])"
      ]
     },
     "execution_count": 22,
     "metadata": {},
     "output_type": "execute_result"
    }
   ],
   "source": [
    "print(y,y_p)\n",
    "y_pred = reg.predict(X_test)\n",
    "np.set_printoptions(precision=2)\n",
    "print(np.concatenate((y_pred.reshape(len(y_pred),1), y_test.reshape(len(y_test),1)),1))\n",
    "np.concatenate((y_pred.reshape(len(y_pred),1), y_test.reshape(len(y_test),1)),1)"
   ]
  },
  {
   "cell_type": "code",
   "execution_count": 23,
   "metadata": {
    "colab": {
     "base_uri": "https://localhost:8080/",
     "height": 265
    },
    "id": "Yl0dXyd30AFl",
    "outputId": "e9af26d6-17aa-46d5-a03c-464531a06c0d"
   },
   "outputs": [
    {
     "data": {
      "image/png": "[encoded data removed]",
      "text/plain": [
       "<Figure size 432x288 with 1 Axes>"
      ]
     },
     "metadata": {
      "needs_background": "light"
     },
     "output_type": "display_data"
    }
   ],
   "source": [
    "import matplotlib.pyplot as plt\n",
    "plt.plot(y_test,'bo')\n",
    "plt.show()"
   ]
  },
  {
   "cell_type": "code",
   "execution_count": 24,
   "metadata": {
    "colab": {
     "base_uri": "https://localhost:8080/",
     "height": 265
    },
    "id": "_vsui3WZ0z-h",
    "outputId": "ce93c7d8-b771-4c44-f066-7769f1918993"
   },
   "outputs": [
    {
     "data": {
      "image/png": "[encoded data removed]",
      "text/plain": [
       "<Figure size 432x288 with 1 Axes>"
      ]
     },
     "metadata": {
      "needs_background": "light"
     },
     "output_type": "display_data"
    }
   ],
   "source": [
    "import matplotlib.pyplot as plt\n",
    "plt.plot(y_pred,'r+')\n",
    "plt.show()"
   ]
  },
  {
   "cell_type": "code",
   "execution_count": 32,
   "metadata": {},
   "outputs": [
    {
     "data": {
      "image/png": "[encoded data removed]",
      "text/plain": [
       "<Figure size 432x288 with 1 Axes>"
      ]
     },
     "metadata": {
      "needs_background": "light"
     },
     "output_type": "display_data"
    }
   ],
   "source": [
    "import matplotlib.pyplot as plt\n",
    "plt.scatter(X_train[:200,3],y_train[:200])\n",
    "plt.show()"
   ]
  }
 ],
 "metadata": {
  "colab": {
   "name": "multiple_linear_regression.ipynb",
   "provenance": []
  },
  "kernelspec": {
   "display_name": "Python 3",
   "language": "python",
   "name": "python3"
  },
  "language_info": {
   "codemirror_mode": {
    "name": "ipython",
    "version": 3
   },
   "file_extension": ".py",
   "mimetype": "text/x-python",
   "name": "python",
   "nbconvert_exporter": "python",
   "pygments_lexer": "ipython3",
   "version": "3.8.2"
  }
 },
 "nbformat": 4,
 "nbformat_minor": 1
}
