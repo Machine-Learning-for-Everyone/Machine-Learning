{
  "nbformat": 4,
  "nbformat_minor": 0,
  "metadata": {
    "colab": {
      "name": "multiple_linear_regression.ipynb",
      "provenance": []
    },
    "kernelspec": {
      "name": "python3",
      "display_name": "Python 3"
    }
  },
  "cells": [
    {
      "cell_type": "markdown",
      "metadata": {
        "id": "CazISR8X_HUG"
      },
      "source": [
        "# Multiple Linear Regression in Python"
      ]
    },
    {
      "cell_type": "markdown",
      "metadata": {
        "id": "pOyqYHTk_Q57"
      },
      "source": [
        "## Importing the libraries (numpy,pandas,sklearn,matplotlib)\n",
        "\n",
        "> Indented block\n",
        "\n"
      ]
    },
    {
      "cell_type": "code",
      "metadata": {
        "id": "T_YHJjnD_Tja"
      },
      "source": [
        "import numpy as np\n",
        "import matplotlib.pyplot as plt\n",
        "import pandas as pd"
      ],
      "execution_count": 56,
      "outputs": []
    },
    {
      "cell_type": "markdown",
      "metadata": {
        "id": "vgC61-ah_WIz"
      },
      "source": [
        "## Importing the dataset (Lateral Acceleration)"
      ]
    },
    {
      "cell_type": "code",
      "metadata": {
        "id": "UrxyEKGn_ez7",
        "outputId": "4482819d-506c-4c41-85d7-55c8e14a81af",
        "colab": {
          "base_uri": "https://localhost:8080/",
          "height": 418
        }
      },
      "source": [
        "dataset = pd.read_csv('DATA.csv',  engine='python')\n",
        "dataset"
      ],
      "execution_count": 170,
      "outputs": [
        {
          "output_type": "execute_result",
          "data": {
            "text/html": [
              "<div>\n",
              "<style scoped>\n",
              "    .dataframe tbody tr th:only-of-type {\n",
              "        vertical-align: middle;\n",
              "    }\n",
              "\n",
              "    .dataframe tbody tr th {\n",
              "        vertical-align: top;\n",
              "    }\n",
              "\n",
              "    .dataframe thead th {\n",
              "        text-align: right;\n",
              "    }\n",
              "</style>\n",
              "<table border=\"1\" class=\"dataframe\">\n",
              "  <thead>\n",
              "    <tr style=\"text-align: right;\">\n",
              "      <th></th>\n",
              "      <th>Time (in seconds)</th>\n",
              "      <th>Vehicle�s speed (in m/s)</th>\n",
              "      <th>Engine Load (% of max power)</th>\n",
              "      <th>Total Acceleration (m/s^2)</th>\n",
              "      <th>Engine RPM</th>\n",
              "      <th>Pitch</th>\n",
              "      <th>Lateral Acceleration (m/s^2)</th>\n",
              "    </tr>\n",
              "  </thead>\n",
              "  <tbody>\n",
              "    <tr>\n",
              "      <th>0</th>\n",
              "      <td>0.020</td>\n",
              "      <td>0.000000</td>\n",
              "      <td>0.0</td>\n",
              "      <td>0.00000</td>\n",
              "      <td>0.00</td>\n",
              "      <td>-0.32371</td>\n",
              "      <td>0.000000e+00</td>\n",
              "    </tr>\n",
              "    <tr>\n",
              "      <th>1</th>\n",
              "      <td>0.027</td>\n",
              "      <td>0.000000</td>\n",
              "      <td>0.0</td>\n",
              "      <td>0.00000</td>\n",
              "      <td>0.00</td>\n",
              "      <td>-0.33391</td>\n",
              "      <td>0.000000e+00</td>\n",
              "    </tr>\n",
              "    <tr>\n",
              "      <th>2</th>\n",
              "      <td>0.037</td>\n",
              "      <td>0.000000</td>\n",
              "      <td>0.0</td>\n",
              "      <td>0.00000</td>\n",
              "      <td>0.00</td>\n",
              "      <td>-0.34420</td>\n",
              "      <td>0.000000e+00</td>\n",
              "    </tr>\n",
              "    <tr>\n",
              "      <th>3</th>\n",
              "      <td>0.047</td>\n",
              "      <td>0.000000</td>\n",
              "      <td>0.0</td>\n",
              "      <td>0.00000</td>\n",
              "      <td>0.00</td>\n",
              "      <td>-0.35457</td>\n",
              "      <td>0.000000e+00</td>\n",
              "    </tr>\n",
              "    <tr>\n",
              "      <th>4</th>\n",
              "      <td>0.057</td>\n",
              "      <td>0.000000</td>\n",
              "      <td>0.0</td>\n",
              "      <td>0.00000</td>\n",
              "      <td>0.00</td>\n",
              "      <td>-0.36502</td>\n",
              "      <td>0.000000e+00</td>\n",
              "    </tr>\n",
              "    <tr>\n",
              "      <th>...</th>\n",
              "      <td>...</td>\n",
              "      <td>...</td>\n",
              "      <td>...</td>\n",
              "      <td>...</td>\n",
              "      <td>...</td>\n",
              "      <td>...</td>\n",
              "      <td>...</td>\n",
              "    </tr>\n",
              "    <tr>\n",
              "      <th>97134</th>\n",
              "      <td>971.440</td>\n",
              "      <td>0.000217</td>\n",
              "      <td>3.1</td>\n",
              "      <td>0.31351</td>\n",
              "      <td>746.60</td>\n",
              "      <td>1.83730</td>\n",
              "      <td>1.090000e-07</td>\n",
              "    </tr>\n",
              "    <tr>\n",
              "      <th>97135</th>\n",
              "      <td>971.450</td>\n",
              "      <td>0.000352</td>\n",
              "      <td>3.1</td>\n",
              "      <td>0.31302</td>\n",
              "      <td>747.03</td>\n",
              "      <td>1.83800</td>\n",
              "      <td>1.760000e-07</td>\n",
              "    </tr>\n",
              "    <tr>\n",
              "      <th>97136</th>\n",
              "      <td>971.460</td>\n",
              "      <td>0.001761</td>\n",
              "      <td>3.1</td>\n",
              "      <td>0.31230</td>\n",
              "      <td>747.46</td>\n",
              "      <td>1.83880</td>\n",
              "      <td>-4.400000e-06</td>\n",
              "    </tr>\n",
              "    <tr>\n",
              "      <th>97137</th>\n",
              "      <td>971.470</td>\n",
              "      <td>0.003171</td>\n",
              "      <td>3.1</td>\n",
              "      <td>0.31139</td>\n",
              "      <td>747.89</td>\n",
              "      <td>1.83950</td>\n",
              "      <td>-7.930000e-06</td>\n",
              "    </tr>\n",
              "    <tr>\n",
              "      <th>97138</th>\n",
              "      <td>971.480</td>\n",
              "      <td>0.000000</td>\n",
              "      <td>NaN</td>\n",
              "      <td>NaN</td>\n",
              "      <td>NaN</td>\n",
              "      <td>NaN</td>\n",
              "      <td>NaN</td>\n",
              "    </tr>\n",
              "  </tbody>\n",
              "</table>\n",
              "<p>97139 rows × 7 columns</p>\n",
              "</div>"
            ],
            "text/plain": [
              "       Time (in seconds)  ...  Lateral Acceleration (m/s^2)\n",
              "0                  0.020  ...                  0.000000e+00\n",
              "1                  0.027  ...                  0.000000e+00\n",
              "2                  0.037  ...                  0.000000e+00\n",
              "3                  0.047  ...                  0.000000e+00\n",
              "4                  0.057  ...                  0.000000e+00\n",
              "...                  ...  ...                           ...\n",
              "97134            971.440  ...                  1.090000e-07\n",
              "97135            971.450  ...                  1.760000e-07\n",
              "97136            971.460  ...                 -4.400000e-06\n",
              "97137            971.470  ...                 -7.930000e-06\n",
              "97138            971.480  ...                           NaN\n",
              "\n",
              "[97139 rows x 7 columns]"
            ]
          },
          "metadata": {
            "tags": []
          },
          "execution_count": 170
        }
      ]
    },
    {
      "cell_type": "code",
      "metadata": {
        "id": "Dtoaq2uahuVV"
      },
      "source": [
        "def clean_dataset(df):\n",
        "    assert isinstance(df, pd.DataFrame), \"df needs to be a pd.DataFrame\"\n",
        "    df.dropna(inplace=True)\n",
        "    indices_to_keep = ~df.isin([np.nan, np.inf, -np.inf]).any(1)\n",
        "    return df[indices_to_keep].astype(np.float64)"
      ],
      "execution_count": 169,
      "outputs": []
    },
    {
      "cell_type": "code",
      "metadata": {
        "id": "r8DDReyqhx8K",
        "outputId": "354556e4-511f-45fe-df82-dd7974bd7bd4",
        "colab": {
          "base_uri": "https://localhost:8080/",
          "height": 418
        }
      },
      "source": [
        "clean_dataset(dataset)"
      ],
      "execution_count": 171,
      "outputs": [
        {
          "output_type": "execute_result",
          "data": {
            "text/html": [
              "<div>\n",
              "<style scoped>\n",
              "    .dataframe tbody tr th:only-of-type {\n",
              "        vertical-align: middle;\n",
              "    }\n",
              "\n",
              "    .dataframe tbody tr th {\n",
              "        vertical-align: top;\n",
              "    }\n",
              "\n",
              "    .dataframe thead th {\n",
              "        text-align: right;\n",
              "    }\n",
              "</style>\n",
              "<table border=\"1\" class=\"dataframe\">\n",
              "  <thead>\n",
              "    <tr style=\"text-align: right;\">\n",
              "      <th></th>\n",
              "      <th>Time (in seconds)</th>\n",
              "      <th>Vehicle�s speed (in m/s)</th>\n",
              "      <th>Engine Load (% of max power)</th>\n",
              "      <th>Total Acceleration (m/s^2)</th>\n",
              "      <th>Engine RPM</th>\n",
              "      <th>Pitch</th>\n",
              "      <th>Lateral Acceleration (m/s^2)</th>\n",
              "    </tr>\n",
              "  </thead>\n",
              "  <tbody>\n",
              "    <tr>\n",
              "      <th>0</th>\n",
              "      <td>0.020</td>\n",
              "      <td>0.000000</td>\n",
              "      <td>0.0</td>\n",
              "      <td>0.00000</td>\n",
              "      <td>0.00</td>\n",
              "      <td>-0.32371</td>\n",
              "      <td>0.000000e+00</td>\n",
              "    </tr>\n",
              "    <tr>\n",
              "      <th>1</th>\n",
              "      <td>0.027</td>\n",
              "      <td>0.000000</td>\n",
              "      <td>0.0</td>\n",
              "      <td>0.00000</td>\n",
              "      <td>0.00</td>\n",
              "      <td>-0.33391</td>\n",
              "      <td>0.000000e+00</td>\n",
              "    </tr>\n",
              "    <tr>\n",
              "      <th>2</th>\n",
              "      <td>0.037</td>\n",
              "      <td>0.000000</td>\n",
              "      <td>0.0</td>\n",
              "      <td>0.00000</td>\n",
              "      <td>0.00</td>\n",
              "      <td>-0.34420</td>\n",
              "      <td>0.000000e+00</td>\n",
              "    </tr>\n",
              "    <tr>\n",
              "      <th>3</th>\n",
              "      <td>0.047</td>\n",
              "      <td>0.000000</td>\n",
              "      <td>0.0</td>\n",
              "      <td>0.00000</td>\n",
              "      <td>0.00</td>\n",
              "      <td>-0.35457</td>\n",
              "      <td>0.000000e+00</td>\n",
              "    </tr>\n",
              "    <tr>\n",
              "      <th>4</th>\n",
              "      <td>0.057</td>\n",
              "      <td>0.000000</td>\n",
              "      <td>0.0</td>\n",
              "      <td>0.00000</td>\n",
              "      <td>0.00</td>\n",
              "      <td>-0.36502</td>\n",
              "      <td>0.000000e+00</td>\n",
              "    </tr>\n",
              "    <tr>\n",
              "      <th>...</th>\n",
              "      <td>...</td>\n",
              "      <td>...</td>\n",
              "      <td>...</td>\n",
              "      <td>...</td>\n",
              "      <td>...</td>\n",
              "      <td>...</td>\n",
              "      <td>...</td>\n",
              "    </tr>\n",
              "    <tr>\n",
              "      <th>97133</th>\n",
              "      <td>971.430</td>\n",
              "      <td>-0.001977</td>\n",
              "      <td>3.1</td>\n",
              "      <td>0.31375</td>\n",
              "      <td>746.17</td>\n",
              "      <td>1.83660</td>\n",
              "      <td>-2.970000e-06</td>\n",
              "    </tr>\n",
              "    <tr>\n",
              "      <th>97134</th>\n",
              "      <td>971.440</td>\n",
              "      <td>0.000217</td>\n",
              "      <td>3.1</td>\n",
              "      <td>0.31351</td>\n",
              "      <td>746.60</td>\n",
              "      <td>1.83730</td>\n",
              "      <td>1.090000e-07</td>\n",
              "    </tr>\n",
              "    <tr>\n",
              "      <th>97135</th>\n",
              "      <td>971.450</td>\n",
              "      <td>0.000352</td>\n",
              "      <td>3.1</td>\n",
              "      <td>0.31302</td>\n",
              "      <td>747.03</td>\n",
              "      <td>1.83800</td>\n",
              "      <td>1.760000e-07</td>\n",
              "    </tr>\n",
              "    <tr>\n",
              "      <th>97136</th>\n",
              "      <td>971.460</td>\n",
              "      <td>0.001761</td>\n",
              "      <td>3.1</td>\n",
              "      <td>0.31230</td>\n",
              "      <td>747.46</td>\n",
              "      <td>1.83880</td>\n",
              "      <td>-4.400000e-06</td>\n",
              "    </tr>\n",
              "    <tr>\n",
              "      <th>97137</th>\n",
              "      <td>971.470</td>\n",
              "      <td>0.003171</td>\n",
              "      <td>3.1</td>\n",
              "      <td>0.31139</td>\n",
              "      <td>747.89</td>\n",
              "      <td>1.83950</td>\n",
              "      <td>-7.930000e-06</td>\n",
              "    </tr>\n",
              "  </tbody>\n",
              "</table>\n",
              "<p>97138 rows × 7 columns</p>\n",
              "</div>"
            ],
            "text/plain": [
              "       Time (in seconds)  ...  Lateral Acceleration (m/s^2)\n",
              "0                  0.020  ...                  0.000000e+00\n",
              "1                  0.027  ...                  0.000000e+00\n",
              "2                  0.037  ...                  0.000000e+00\n",
              "3                  0.047  ...                  0.000000e+00\n",
              "4                  0.057  ...                  0.000000e+00\n",
              "...                  ...  ...                           ...\n",
              "97133            971.430  ...                 -2.970000e-06\n",
              "97134            971.440  ...                  1.090000e-07\n",
              "97135            971.450  ...                  1.760000e-07\n",
              "97136            971.460  ...                 -4.400000e-06\n",
              "97137            971.470  ...                 -7.930000e-06\n",
              "\n",
              "[97138 rows x 7 columns]"
            ]
          },
          "metadata": {
            "tags": []
          },
          "execution_count": 171
        }
      ]
    },
    {
      "cell_type": "markdown",
      "metadata": {
        "id": "j39XlwKAFcg-"
      },
      "source": [
        "# **Spliting Dependent and Independent variable**"
      ]
    },
    {
      "cell_type": "code",
      "metadata": {
        "id": "GOB3QhV9B5kD",
        "outputId": "0ef3793f-6b01-49d2-8812-b08eaf839bcc",
        "colab": {
          "base_uri": "https://localhost:8080/"
        }
      },
      "source": [
        "X = dataset.iloc[:,0:-1].values.round(decimals=2)\n",
        "y = dataset.iloc[:,-1:].values.round(decimals=2)\n",
        "X"
      ],
      "execution_count": 172,
      "outputs": [
        {
          "output_type": "execute_result",
          "data": {
            "text/plain": [
              "array([[ 2.00e-02,  0.00e+00,  0.00e+00,  0.00e+00,  0.00e+00, -3.20e-01],\n",
              "       [ 3.00e-02,  0.00e+00,  0.00e+00,  0.00e+00,  0.00e+00, -3.30e-01],\n",
              "       [ 4.00e-02,  0.00e+00,  0.00e+00,  0.00e+00,  0.00e+00, -3.40e-01],\n",
              "       ...,\n",
              "       [ 9.71e+02,  0.00e+00,  3.10e+00,  3.10e-01,  7.47e+02,  1.84e+00],\n",
              "       [ 9.71e+02,  0.00e+00,  3.10e+00,  3.10e-01,  7.47e+02,  1.84e+00],\n",
              "       [ 9.71e+02,  0.00e+00,  3.10e+00,  3.10e-01,  7.48e+02,  1.84e+00]])"
            ]
          },
          "metadata": {
            "tags": []
          },
          "execution_count": 172
        }
      ]
    },
    {
      "cell_type": "code",
      "metadata": {
        "id": "HbCWt5YNF5Rr",
        "outputId": "3f62fecb-42f9-4330-ac73-823922ee5fc3",
        "colab": {
          "base_uri": "https://localhost:8080/"
        }
      },
      "source": [
        "y"
      ],
      "execution_count": 173,
      "outputs": [
        {
          "output_type": "execute_result",
          "data": {
            "text/plain": [
              "array([[ 0.],\n",
              "       [ 0.],\n",
              "       [ 0.],\n",
              "       ...,\n",
              "       [ 0.],\n",
              "       [-0.],\n",
              "       [-0.]])"
            ]
          },
          "metadata": {
            "tags": []
          },
          "execution_count": 173
        }
      ]
    },
    {
      "cell_type": "markdown",
      "metadata": {
        "id": "VadrvE7s_lS9"
      },
      "source": [
        "## Encoding categorical data"
      ]
    },
    {
      "cell_type": "code",
      "metadata": {
        "id": "wV3fD1mbAvsh"
      },
      "source": [
        "from sklearn.impute import SimpleImputer\n",
        "imputer = SimpleImputer(missing_values=np.nan,strategy='mean')\n",
        "imputer.fit(X[:,0:-1])\n",
        "X[:,0:-1]=imputer.transform(X[:,0:-1])"
      ],
      "execution_count": 174,
      "outputs": []
    },
    {
      "cell_type": "code",
      "metadata": {
        "id": "DVWq-eGxbjjW"
      },
      "source": [
        "imputer.fit_transform(y[:,0:])\n",
        "y[:,0:]=imputer.transform(y[:,0:])"
      ],
      "execution_count": 175,
      "outputs": []
    },
    {
      "cell_type": "code",
      "metadata": {
        "id": "4ym3HdYeCGYG",
        "outputId": "22860311-019e-45ff-a145-97b3367c9cb9",
        "colab": {
          "base_uri": "https://localhost:8080/"
        }
      },
      "source": [
        "print(X)"
      ],
      "execution_count": 176,
      "outputs": [
        {
          "output_type": "stream",
          "text": [
            "[[ 2.00e-02  0.00e+00  0.00e+00  0.00e+00  0.00e+00 -3.20e-01]\n",
            " [ 3.00e-02  0.00e+00  0.00e+00  0.00e+00  0.00e+00 -3.30e-01]\n",
            " [ 4.00e-02  0.00e+00  0.00e+00  0.00e+00  0.00e+00 -3.40e-01]\n",
            " ...\n",
            " [ 9.71e+02  0.00e+00  3.10e+00  3.10e-01  7.47e+02  1.84e+00]\n",
            " [ 9.71e+02  0.00e+00  3.10e+00  3.10e-01  7.47e+02  1.84e+00]\n",
            " [ 9.71e+02  0.00e+00  3.10e+00  3.10e-01  7.48e+02  1.84e+00]]\n"
          ],
          "name": "stdout"
        }
      ]
    },
    {
      "cell_type": "code",
      "metadata": {
        "id": "-sI_jfgzb_2d",
        "outputId": "f64e2a69-aaaa-4b3d-c37a-c4d966ad018f",
        "colab": {
          "base_uri": "https://localhost:8080/"
        }
      },
      "source": [
        "print(y)"
      ],
      "execution_count": 177,
      "outputs": [
        {
          "output_type": "stream",
          "text": [
            "[[ 0.]\n",
            " [ 0.]\n",
            " [ 0.]\n",
            " ...\n",
            " [ 0.]\n",
            " [-0.]\n",
            " [-0.]]\n"
          ],
          "name": "stdout"
        }
      ]
    },
    {
      "cell_type": "markdown",
      "metadata": {
        "id": "WemVnqgeA70k"
      },
      "source": [
        "## Splitting the dataset into the Training set and Test set"
      ]
    },
    {
      "cell_type": "code",
      "metadata": {
        "id": "ijG3GlnTodRH"
      },
      "source": [
        "from sklearn.model_selection import train_test_split\n",
        "X_train,X_test,y_train,y_test = train_test_split(X,y,test_size=0.3,random_state=0)"
      ],
      "execution_count": 178,
      "outputs": []
    },
    {
      "cell_type": "code",
      "metadata": {
        "id": "5GgJa9WerkhP",
        "outputId": "584d1ef8-b1b9-41a2-a3d5-ee7ac67ef2d2",
        "colab": {
          "base_uri": "https://localhost:8080/",
          "height": 265
        }
      },
      "source": [
        "import matplotlib.pyplot as plt\n",
        "plt.plot(X_train,y_train)\n",
        "plt.show()"
      ],
      "execution_count": 179,
      "outputs": [
        {
          "output_type": "display_data",
          "data": {
            "image/png": "[encoded data removed]",
            "text/plain": [
              "<Figure size 432x288 with 1 Axes>"
            ]
          },
          "metadata": {
            "tags": [],
            "needs_background": "light"
          }
        }
      ]
    },
    {
      "cell_type": "code",
      "metadata": {
        "id": "H-S6KWhdru-V",
        "outputId": "8a5d66da-1c29-4952-d4c4-bf07d6293b5f",
        "colab": {
          "base_uri": "https://localhost:8080/",
          "height": 265
        }
      },
      "source": [
        "import matplotlib.pyplot as plt\n",
        "plt.plot(X,y)\n",
        "plt.show()"
      ],
      "execution_count": 180,
      "outputs": [
        {
          "output_type": "display_data",
          "data": {
            "image/png": "[encoded data removed]",
            "text/plain": [
              "<Figure size 432x288 with 1 Axes>"
            ]
          },
          "metadata": {
            "tags": [],
            "needs_background": "light"
          }
        }
      ]
    },
    {
      "cell_type": "markdown",
      "metadata": {
        "id": "k-McZVsQBINc"
      },
      "source": [
        "## Training the Multiple Linear Regression model on the Training set"
      ]
    },
    {
      "cell_type": "code",
      "metadata": {
        "id": "2HQMO_SlgzGW",
        "outputId": "d0d39e58-44dc-4de2-acd3-87e7b2291ff1",
        "colab": {
          "base_uri": "https://localhost:8080/"
        }
      },
      "source": [
        "np.any(np.isnan(X))\n"
      ],
      "execution_count": 181,
      "outputs": [
        {
          "output_type": "execute_result",
          "data": {
            "text/plain": [
              "False"
            ]
          },
          "metadata": {
            "tags": []
          },
          "execution_count": 181
        }
      ]
    },
    {
      "cell_type": "code",
      "metadata": {
        "id": "nyK5n5BIhbAT"
      },
      "source": [
        ""
      ],
      "execution_count": 181,
      "outputs": []
    },
    {
      "cell_type": "code",
      "metadata": {
        "id": "ZeXE4vp1g8bK",
        "outputId": "58fae42d-a7d8-48f6-d738-a8b0f42b4679",
        "colab": {
          "base_uri": "https://localhost:8080/"
        }
      },
      "source": [
        "np.all(np.isfinite(X))"
      ],
      "execution_count": 182,
      "outputs": [
        {
          "output_type": "execute_result",
          "data": {
            "text/plain": [
              "True"
            ]
          },
          "metadata": {
            "tags": []
          },
          "execution_count": 182
        }
      ]
    },
    {
      "cell_type": "code",
      "metadata": {
        "id": "NVZG6Dv2g3vi",
        "outputId": "c43ff77b-1bed-4b20-fe2f-05b59365d57f",
        "colab": {
          "base_uri": "https://localhost:8080/"
        }
      },
      "source": [
        "np.all(np.isfinite(y))"
      ],
      "execution_count": 183,
      "outputs": [
        {
          "output_type": "execute_result",
          "data": {
            "text/plain": [
              "True"
            ]
          },
          "metadata": {
            "tags": []
          },
          "execution_count": 183
        }
      ]
    },
    {
      "cell_type": "code",
      "metadata": {
        "id": "rrZLXZYwg_T7",
        "outputId": "f094e34e-b79f-4b22-9cd6-4e7d31bb083a",
        "colab": {
          "base_uri": "https://localhost:8080/"
        }
      },
      "source": [
        "np.any(np.isnan(y))"
      ],
      "execution_count": 184,
      "outputs": [
        {
          "output_type": "execute_result",
          "data": {
            "text/plain": [
              "False"
            ]
          },
          "metadata": {
            "tags": []
          },
          "execution_count": 184
        }
      ]
    },
    {
      "cell_type": "code",
      "metadata": {
        "id": "YBjOYBucpQTS",
        "outputId": "34f8dc05-df2b-486c-8d4a-3807255dfdbb",
        "colab": {
          "base_uri": "https://localhost:8080/"
        }
      },
      "source": [
        "from sklearn.linear_model import LinearRegression\n",
        "reg = LinearRegression()\n",
        "res=reg.fit(X_train,y_train)\n",
        "res"
      ],
      "execution_count": 185,
      "outputs": [
        {
          "output_type": "execute_result",
          "data": {
            "text/plain": [
              "LinearRegression(copy_X=True, fit_intercept=True, n_jobs=None, normalize=False)"
            ]
          },
          "metadata": {
            "tags": []
          },
          "execution_count": 185
        }
      ]
    },
    {
      "cell_type": "code",
      "metadata": {
        "id": "LHHtWO_xrzlt",
        "outputId": "2dd0b6c3-3d23-4bef-9498-5938c37e618d",
        "colab": {
          "base_uri": "https://localhost:8080/",
          "height": 265
        }
      },
      "source": [
        "import matplotlib.pyplot as plt\n",
        "plt.plot(X_train,y_train)\n",
        "plt.show()"
      ],
      "execution_count": 186,
      "outputs": [
        {
          "output_type": "display_data",
          "data": {
            "image/png": "[encoded data removed]",
            "text/plain": [
              "<Figure size 432x288 with 1 Axes>"
            ]
          },
          "metadata": {
            "tags": [],
            "needs_background": "light"
          }
        }
      ]
    },
    {
      "cell_type": "markdown",
      "metadata": {
        "id": "xNkXL1YQBiBT"
      },
      "source": [
        "## Predicting the Test set results"
      ]
    },
    {
      "cell_type": "code",
      "metadata": {
        "id": "AC2ktQ3qp7uW",
        "outputId": "e038ce5d-f8be-4314-f0f9-9746cbdb48ed",
        "colab": {
          "base_uri": "https://localhost:8080/"
        }
      },
      "source": [
        "y_p = reg.predict(X_test)\n",
        "y_p"
      ],
      "execution_count": 187,
      "outputs": [
        {
          "output_type": "execute_result",
          "data": {
            "text/plain": [
              "array([[ 0.06],\n",
              "       [ 0.03],\n",
              "       [-0.24],\n",
              "       ...,\n",
              "       [ 0.07],\n",
              "       [ 0.06],\n",
              "       [-0.02]])"
            ]
          },
          "metadata": {
            "tags": []
          },
          "execution_count": 187
        }
      ]
    },
    {
      "cell_type": "code",
      "metadata": {
        "id": "cgA3Pyg_tr3A",
        "outputId": "212f1f1c-321b-4be0-cbbf-c97ac78db550",
        "colab": {
          "base_uri": "https://localhost:8080/",
          "height": 265
        }
      },
      "source": [
        "import matplotlib.pyplot as plt\n",
        "plt.plot(X_test,y_p)\n",
        "plt.show()"
      ],
      "execution_count": 188,
      "outputs": [
        {
          "output_type": "display_data",
          "data": {
            "image/png": "[encoded data removed]",
            "text/plain": [
              "<Figure size 432x288 with 1 Axes>"
            ]
          },
          "metadata": {
            "tags": [],
            "needs_background": "light"
          }
        }
      ]
    },
    {
      "cell_type": "code",
      "metadata": {
        "id": "k0zYV5gttya2",
        "outputId": "bf4b2413-99ab-4a2d-a9ce-160ca8d7fa44",
        "colab": {
          "base_uri": "https://localhost:8080/"
        }
      },
      "source": [
        "print(y,y_p)\n",
        "y_pred = reg.predict(X_test)\n",
        "np.set_printoptions(precision=2)\n",
        "print(np.concatenate((y_pred.reshape(len(y_pred),1), y_test.reshape(len(y_test),1)),1))\n",
        "np.concatenate((y_pred.reshape(len(y_pred),1), y_test.reshape(len(y_test),1)),1)"
      ],
      "execution_count": 192,
      "outputs": [
        {
          "output_type": "stream",
          "text": [
            "[[ 0.]\n",
            " [ 0.]\n",
            " [ 0.]\n",
            " ...\n",
            " [ 0.]\n",
            " [-0.]\n",
            " [-0.]] [[ 0.06]\n",
            " [ 0.03]\n",
            " [-0.24]\n",
            " ...\n",
            " [ 0.07]\n",
            " [ 0.06]\n",
            " [-0.02]]\n",
            "[[ 0.06 -0.1 ]\n",
            " [ 0.03  0.  ]\n",
            " [-0.24  0.15]\n",
            " ...\n",
            " [ 0.07  0.12]\n",
            " [ 0.06 -0.46]\n",
            " [-0.02  0.  ]]\n"
          ],
          "name": "stdout"
        },
        {
          "output_type": "execute_result",
          "data": {
            "text/plain": [
              "array([[ 0.06, -0.1 ],\n",
              "       [ 0.03,  0.  ],\n",
              "       [-0.24,  0.15],\n",
              "       ...,\n",
              "       [ 0.07,  0.12],\n",
              "       [ 0.06, -0.46],\n",
              "       [-0.02,  0.  ]])"
            ]
          },
          "metadata": {
            "tags": []
          },
          "execution_count": 192
        }
      ]
    },
    {
      "cell_type": "code",
      "metadata": {
        "id": "Yl0dXyd30AFl",
        "outputId": "e9af26d6-17aa-46d5-a03c-464531a06c0d",
        "colab": {
          "base_uri": "https://localhost:8080/",
          "height": 265
        }
      },
      "source": [
        "import matplotlib.pyplot as plt\n",
        "plt.plot(y_test,'bo')\n",
        "plt.show()"
      ],
      "execution_count": 190,
      "outputs": [
        {
          "output_type": "display_data",
          "data": {
            "image/png": "[encoded data removed]",
            "text/plain": [
              "<Figure size 432x288 with 1 Axes>"
            ]
          },
          "metadata": {
            "tags": [],
            "needs_background": "light"
          }
        }
      ]
    },
    {
      "cell_type": "code",
      "metadata": {
        "id": "_vsui3WZ0z-h",
        "outputId": "ce93c7d8-b771-4c44-f066-7769f1918993",
        "colab": {
          "base_uri": "https://localhost:8080/",
          "height": 265
        }
      },
      "source": [
        "import matplotlib.pyplot as plt\n",
        "plt.plot(y_pred,'r+')\n",
        "plt.show()"
      ],
      "execution_count": 191,
      "outputs": [
        {
          "output_type": "display_data",
          "data": {
            "image/png": "[encoded data removed]",
            "text/plain": [
              "<Figure size 432x288 with 1 Axes>"
            ]
          },
          "metadata": {
            "tags": [],
            "needs_background": "light"
          }
        }
      ]
    }
  ]
}